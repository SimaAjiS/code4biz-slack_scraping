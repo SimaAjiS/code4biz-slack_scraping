{
 "cells": [
  {
   "cell_type": "code",
   "execution_count": 5,
   "outputs": [],
   "source": [
    "\n",
    "from main import excel_tabling, create_src_dir\n",
    "\n",
    "search_days = ['2022-03-21']\n",
    "\n",
    "for search_day in search_days:\n",
    "\n",
    "    # ソースディレクトリの作成\n",
    "    src_dir = create_src_dir(search_day)\n",
    "\n",
    "    aggre_file_name = f'{src_dir}/【取得数不足】{search_day}_code4biz_slack_messages.xlsx'\n",
    "\n",
    "    excel_tabling(aggre_file_name)\n"
   ],
   "metadata": {
    "collapsed": false,
    "pycharm": {
     "name": "#%%\n"
    }
   }
  },
  {
   "cell_type": "code",
   "execution_count": null,
   "outputs": [],
   "source": [],
   "metadata": {
    "collapsed": false,
    "pycharm": {
     "name": "#%%\n"
    }
   }
  }
 ],
 "metadata": {
  "kernelspec": {
   "display_name": "Python 3",
   "language": "python",
   "name": "python3"
  },
  "language_info": {
   "codemirror_mode": {
    "name": "ipython",
    "version": 2
   },
   "file_extension": ".py",
   "mimetype": "text/x-python",
   "name": "python",
   "nbconvert_exporter": "python",
   "pygments_lexer": "ipython2",
   "version": "2.7.6"
  }
 },
 "nbformat": 4,
 "nbformat_minor": 0
}