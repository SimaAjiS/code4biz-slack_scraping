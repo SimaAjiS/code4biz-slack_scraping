{
 "cells": [
  {
   "cell_type": "code",
   "execution_count": 55,
   "outputs": [],
   "source": [
    "import glob\n",
    "\n",
    "import openpyxl\n",
    "import pandas as pd"
   ],
   "metadata": {
    "collapsed": false,
    "pycharm": {
     "name": "#%%\n"
    }
   }
  },
  {
   "cell_type": "code",
   "execution_count": 56,
   "outputs": [],
   "source": [
    "file_path = f'src/2022-03'\n",
    "files = glob.glob(f'{file_path}/*_c4b_slack.xlsx')\n",
    "\n",
    "# ベース用データフレームの準備\n",
    "df_base = pd.read_excel('src/template.xlsx', index_col=None, header=00)\n",
    "\n",
    "for file in files:\n",
    "    # 追加用データフレームの準備\n",
    "    wb = openpyxl.load_workbook(file, data_only=True)\n",
    "    ws = wb.active\n",
    "\n",
    "    data = []\n",
    "    for i in range(2, ws.max_row):\n",
    "        datum = {\n",
    "            '検索結果数': ws[f'A{i}'].value,\n",
    "            '抽出日時': ws[f'B{i}'].value,\n",
    "            'thread_ts': ws[f'C{i}'].value,\n",
    "            '投稿日': ws[f'D{i}'].value,\n",
    "            '投稿時間': ws[f'E{i}'].value,\n",
    "            '投稿チャンネル': ws[f'F{i}'].value,\n",
    "            '投稿者': ws[f'G{i}'].value,\n",
    "            '投稿メッセージ': ws[f'H{i}'].value,\n",
    "            'リンク': ws[f'I{i}'].value,\n",
    "            'リンク2': ws[f'H{i}'].value,\n",
    "            'リンク3': ws[f'J{i}'].value,\n",
    "            'リンク4': ws[f'K{i}'].value,\n",
    "            'リンク5': ws[f'L{i}'].value,\n",
    "            'リンク6': ws[f'M{i}'].value\n",
    "        }\n",
    "        data.append(datum)\n",
    "\n",
    "    _df = pd.DataFrame(data)\n",
    "    _df = _df.dropna(how='all')\n",
    "\n",
    "    # 2つのデータフレームを縦に結合し新たなベース用データフレームとする\n",
    "    df_base = pd.concat([df_base, _df])"
   ],
   "metadata": {
    "collapsed": false,
    "pycharm": {
     "name": "#%%\n"
    }
   }
  },
  {
   "cell_type": "code",
   "execution_count": 78,
   "outputs": [],
   "source": [
    "df_base.to_excel(f'{file_path}/月集計.xlsx')"
   ],
   "metadata": {
    "collapsed": false,
    "pycharm": {
     "name": "#%%\n"
    }
   }
  },
  {
   "cell_type": "code",
   "execution_count": null,
   "outputs": [],
   "source": [],
   "metadata": {
    "collapsed": false,
    "pycharm": {
     "name": "#%%\n"
    }
   }
  }
 ],
 "metadata": {
  "kernelspec": {
   "display_name": "Python 3",
   "language": "python",
   "name": "python3"
  },
  "language_info": {
   "codemirror_mode": {
    "name": "ipython",
    "version": 2
   },
   "file_extension": ".py",
   "mimetype": "text/x-python",
   "name": "python",
   "nbconvert_exporter": "python",
   "pygments_lexer": "ipython2",
   "version": "2.7.6"
  }
 },
 "nbformat": 4,
 "nbformat_minor": 0
}