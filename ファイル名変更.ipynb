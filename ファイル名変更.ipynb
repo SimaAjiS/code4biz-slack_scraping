{
 "cells": [
  {
   "cell_type": "code",
   "execution_count": 79,
   "outputs": [],
   "source": [
    "import glob\n",
    "\n",
    "import openpyxl"
   ],
   "metadata": {
    "collapsed": false,
    "pycharm": {
     "name": "#%%\n"
    }
   }
  },
  {
   "cell_type": "code",
   "execution_count": 83,
   "outputs": [],
   "source": [
    "file_path = f'src/2022-04'"
   ],
   "metadata": {
    "collapsed": false,
    "pycharm": {
     "name": "#%%\n"
    }
   }
  },
  {
   "cell_type": "code",
   "execution_count": 84,
   "outputs": [
    {
     "name": "stdout",
     "output_type": "stream",
     "text": [
      "22\n"
     ]
    },
    {
     "data": {
      "text/plain": "['src/2022-04\\\\2022-04-01_code4biz_slack_messages.xlsx',\n 'src/2022-04\\\\2022-04-02_取得数不一致_code4biz_slack_messages.xlsx',\n 'src/2022-04\\\\2022-04-03_code4biz_slack_messages.xlsx',\n 'src/2022-04\\\\2022-04-04_code4biz_slack_messages.xlsx',\n 'src/2022-04\\\\2022-04-05_code4biz_slack_messages.xlsx',\n 'src/2022-04\\\\2022-04-06_code4biz_slack_messages.xlsx',\n 'src/2022-04\\\\2022-04-07_code4biz_slack_messages.xlsx',\n 'src/2022-04\\\\2022-04-08_code4biz_slack_messages.xlsx',\n 'src/2022-04\\\\2022-04-09_code4biz_slack_messages.xlsx',\n 'src/2022-04\\\\2022-04-10_code4biz_slack_messages.xlsx',\n 'src/2022-04\\\\2022-04-11_code4biz_slack_messages.xlsx',\n 'src/2022-04\\\\2022-04-12_code4biz_slack_messages.xlsx',\n 'src/2022-04\\\\2022-04-13_code4biz_slack_messages.xlsx',\n 'src/2022-04\\\\2022-04-14_code4biz_slack_messages.xlsx',\n 'src/2022-04\\\\2022-04-15_code4biz_slack_messages.xlsx',\n 'src/2022-04\\\\2022-04-16_code4biz_slack_messages.xlsx',\n 'src/2022-04\\\\2022-04-17_取得数不一致_code4biz_slack_messages.xlsx',\n 'src/2022-04\\\\2022-04-18_code4biz_slack_messages.xlsx',\n 'src/2022-04\\\\2022-04-19_code4biz_slack_messages.xlsx',\n 'src/2022-04\\\\2022-04-20_code4biz_slack_messages.xlsx',\n 'src/2022-04\\\\2022-04-21_code4biz_slack_messages.xlsx',\n 'src/2022-04\\\\2022-04-22_code4biz_slack_messages.xlsx']"
     },
     "execution_count": 84,
     "metadata": {},
     "output_type": "execute_result"
    }
   ],
   "source": [
    "files = glob.glob(f'{file_path}/*_code4biz*')\n",
    "print(len(files))\n",
    "files"
   ],
   "metadata": {
    "collapsed": false,
    "pycharm": {
     "name": "#%%\n"
    }
   }
  },
  {
   "cell_type": "code",
   "execution_count": 85,
   "outputs": [
    {
     "name": "stdout",
     "output_type": "stream",
     "text": [
      "src/2022-04\\2022-04-01_code4biz_slack_messages.xlsx\n",
      "src/2022-04\\2022-04-01_128_c4b_slack.xlsx\n",
      "src/2022-04\\2022-04-02_取得数不一致_code4biz_slack_messages.xlsx\n",
      "src/2022-04\\2022-04-03_code4biz_slack_messages.xlsx\n",
      "src/2022-04\\2022-04-03_103_c4b_slack.xlsx\n",
      "src/2022-04\\2022-04-04_code4biz_slack_messages.xlsx\n",
      "src/2022-04\\2022-04-04_095_c4b_slack.xlsx\n",
      "src/2022-04\\2022-04-05_code4biz_slack_messages.xlsx\n",
      "src/2022-04\\2022-04-05_071_c4b_slack.xlsx\n",
      "src/2022-04\\2022-04-06_code4biz_slack_messages.xlsx\n",
      "src/2022-04\\2022-04-06_064_c4b_slack.xlsx\n",
      "src/2022-04\\2022-04-07_code4biz_slack_messages.xlsx\n",
      "src/2022-04\\2022-04-07_087_c4b_slack.xlsx\n",
      "src/2022-04\\2022-04-08_code4biz_slack_messages.xlsx\n",
      "src/2022-04\\2022-04-08_093_c4b_slack.xlsx\n",
      "src/2022-04\\2022-04-09_code4biz_slack_messages.xlsx\n",
      "src/2022-04\\2022-04-09_106_c4b_slack.xlsx\n",
      "src/2022-04\\2022-04-10_code4biz_slack_messages.xlsx\n",
      "src/2022-04\\2022-04-10_101_c4b_slack.xlsx\n",
      "src/2022-04\\2022-04-11_code4biz_slack_messages.xlsx\n",
      "src/2022-04\\2022-04-11_060_c4b_slack.xlsx\n",
      "src/2022-04\\2022-04-12_code4biz_slack_messages.xlsx\n",
      "src/2022-04\\2022-04-12_101_c4b_slack.xlsx\n",
      "src/2022-04\\2022-04-13_code4biz_slack_messages.xlsx\n",
      "src/2022-04\\2022-04-13_088_c4b_slack.xlsx\n",
      "src/2022-04\\2022-04-14_code4biz_slack_messages.xlsx\n",
      "src/2022-04\\2022-04-14_045_c4b_slack.xlsx\n",
      "src/2022-04\\2022-04-15_code4biz_slack_messages.xlsx\n",
      "src/2022-04\\2022-04-15_076_c4b_slack.xlsx\n",
      "src/2022-04\\2022-04-16_code4biz_slack_messages.xlsx\n",
      "src/2022-04\\2022-04-16_102_c4b_slack.xlsx\n",
      "src/2022-04\\2022-04-17_取得数不一致_code4biz_slack_messages.xlsx\n",
      "src/2022-04\\2022-04-18_code4biz_slack_messages.xlsx\n",
      "src/2022-04\\2022-04-18_047_c4b_slack.xlsx\n",
      "src/2022-04\\2022-04-19_code4biz_slack_messages.xlsx\n",
      "src/2022-04\\2022-04-19_094_c4b_slack.xlsx\n",
      "src/2022-04\\2022-04-20_code4biz_slack_messages.xlsx\n",
      "src/2022-04\\2022-04-20_058_c4b_slack.xlsx\n",
      "src/2022-04\\2022-04-21_code4biz_slack_messages.xlsx\n",
      "src/2022-04\\2022-04-21_054_c4b_slack.xlsx\n",
      "src/2022-04\\2022-04-22_code4biz_slack_messages.xlsx\n",
      "src/2022-04\\2022-04-22_069_c4b_slack.xlsx\n"
     ]
    }
   ],
   "source": [
    "for file in files:\n",
    "    print(file)\n",
    "\n",
    "    wb = openpyxl.load_workbook(file)\n",
    "    ws = wb.active\n",
    "\n",
    "    total_message = ws['A2'].value\n",
    "\n",
    "    d = file.split('\\\\')[-1].split('_')[0]\n",
    "    if file.split('\\\\')[-1].split('_')[1] != '取得数不一致':\n",
    "        new_file_name = f'{file_path}\\\\{d}_{total_message:03}_c4b_slack.xlsx'\n",
    "        print(new_file_name)\n",
    "        wb.save(new_file_name)\n"
   ],
   "metadata": {
    "collapsed": false,
    "pycharm": {
     "name": "#%%\n"
    }
   }
  },
  {
   "cell_type": "code",
   "execution_count": 74,
   "outputs": [],
   "source": [],
   "metadata": {
    "collapsed": false,
    "pycharm": {
     "name": "#%%\n"
    }
   }
  }
 ],
 "metadata": {
  "kernelspec": {
   "display_name": "Python 3",
   "language": "python",
   "name": "python3"
  },
  "language_info": {
   "codemirror_mode": {
    "name": "ipython",
    "version": 2
   },
   "file_extension": ".py",
   "mimetype": "text/x-python",
   "name": "python",
   "nbconvert_exporter": "python",
   "pygments_lexer": "ipython2",
   "version": "2.7.6"
  }
 },
 "nbformat": 4,
 "nbformat_minor": 0
}