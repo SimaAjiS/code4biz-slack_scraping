{
 "cells": [
  {
   "cell_type": "code",
   "execution_count": 6,
   "outputs": [
    {
     "name": "stdout",
     "output_type": "stream",
     "text": [
      "Collecting webdriver_manager\n",
      "  Downloading webdriver_manager-3.8.2-py2.py3-none-any.whl (26 kB)\n",
      "Collecting requests\n",
      "  Downloading requests-2.28.1-py3-none-any.whl (62 kB)\n",
      "     ---------------------------------------- 62.8/62.8 kB 3.3 MB/s eta 0:00:00\n",
      "Collecting python-dotenv\n",
      "  Using cached python_dotenv-0.20.0-py3-none-any.whl (17 kB)\n",
      "Requirement already satisfied: certifi>=2017.4.17 in c:\\users\\sgwya\\appdata\\local\\programs\\python\\python39\\lib\\site-packages (from requests->webdriver_manager) (2022.6.15)\n",
      "Requirement already satisfied: urllib3<1.27,>=1.21.1 in c:\\users\\sgwya\\appdata\\local\\programs\\python\\python39\\lib\\site-packages (from requests->webdriver_manager) (1.26.10)\n",
      "Collecting charset-normalizer<3,>=2\n",
      "  Downloading charset_normalizer-2.1.0-py3-none-any.whl (39 kB)\n",
      "Requirement already satisfied: idna<4,>=2.5 in c:\\users\\sgwya\\appdata\\local\\programs\\python\\python39\\lib\\site-packages (from requests->webdriver_manager) (3.3)\n",
      "Installing collected packages: python-dotenv, charset-normalizer, requests, webdriver_manager\n",
      "Successfully installed charset-normalizer-2.1.0 python-dotenv-0.20.0 requests-2.28.1 webdriver_manager-3.8.2\n"
     ]
    }
   ],
   "source": [
    "\n",
    "# !pip install webdriver_manager"
   ],
   "metadata": {
    "collapsed": false,
    "pycharm": {
     "name": "#%%\n"
    }
   }
  },
  {
   "cell_type": "code",
   "execution_count": 76,
   "outputs": [],
   "source": [
    "# from scraping import selenium_run, auto_login\n",
    "import json\n",
    "import math\n",
    "from time import sleep\n",
    "\n",
    "import pandas as pd\n",
    "import pyautogui as pg\n",
    "from selenium import webdriver\n",
    "from selenium.webdriver.chrome.service import Service\n",
    "from selenium.webdriver.common.by import By\n",
    "from webdriver_manager.chrome import ChromeDriverManager\n",
    "\n",
    "\n",
    "def selenium_run():\n",
    "    service = Service(ChromeDriverManager().install())\n",
    "    driver = webdriver.Chrome(service=service)\n",
    "    url = 'https://code4biz.slack.com/'\n",
    "\n",
    "    # 暗黙的な待機\n",
    "    driver.implicitly_wait(5)\n",
    "    driver.get(url)\n",
    "    driver.maximize_window()\n",
    "    return driver\n",
    "\n",
    "\n",
    "def auto_login(driver):\n",
    "    # ログインページ処理\n",
    "    form = driver.find_element(by=By.CSS_SELECTOR, value='#signin_form')\n",
    "    login_mail = form.find_element(by=By.NAME, value='email')\n",
    "    login_passwd = form.find_element(by=By.NAME, value='password')\n",
    "\n",
    "    # 認証情報\n",
    "    with open('src/auth.json') as f:\n",
    "        auth = json.load(f)\n",
    "\n",
    "    my_mail = auth['my_mail']\n",
    "    my_pass = auth['my_pass']\n",
    "\n",
    "    # ログイン情報初期化\n",
    "    login_mail.clear()\n",
    "    login_passwd.clear()\n",
    "\n",
    "    login_mail.send_keys(my_mail)\n",
    "    login_passwd.send_keys(my_pass)\n",
    "\n",
    "    # サインインボタンを押す\n",
    "    sleep(0.5)\n",
    "    btn = form.find_element(by=By.CSS_SELECTOR, value='#signin_btn')\n",
    "    btn.click()\n",
    "    sleep(2)\n",
    "\n",
    "    # Slackアプリ起動確認メッセージのキャンセル\n",
    "    pg.press('enter', presses=1, interval=0.1)\n",
    "    sleep(1)\n",
    "\n",
    "    # ブラウザでSlack起動\n",
    "    pg.press('tab', presses=2, interval=0.1)\n",
    "    pg.press('enter', presses=1, interval=0.1)\n",
    "\n",
    "    # SlackのWebページが完全に立ち上がるまで8秒待機\n",
    "    sleep(8)"
   ],
   "metadata": {
    "collapsed": false,
    "pycharm": {
     "name": "#%%\n"
    }
   }
  },
  {
   "cell_type": "code",
   "execution_count": 77,
   "outputs": [
    {
     "name": "stdout",
     "output_type": "stream",
     "text": [
      "\n",
      "計 3ページ\n",
      "50\n",
      "1/3ページ 1 Akito Nishimuraさんのデータ取得完了\n",
      "1/3ページ 2 araさんのデータ取得完了\n",
      "1/3ページ 3 Atsushiさんのデータ取得完了\n",
      "1/3ページ 4 aya sugiyamaさんのデータ取得完了\n",
      "1/3ページ 5 Daisukeさんのデータ取得完了\n",
      "1/3ページ 6 eitaさんのデータ取得完了\n",
      "1/3ページ 7 H.Yoshimuraさんのデータ取得完了\n",
      "1/3ページ 8 hirota akitoさんのデータ取得完了\n",
      "1/3ページ 9 imanyuさんのデータ取得完了\n",
      "1/3ページ 10 jさんのデータ取得完了\n",
      "1/3ページ 11 KANAUCHIさんのデータ取得完了\n",
      "1/3ページ 12 Kaori Gendaさんのデータ取得完了\n",
      "1/3ページ 13 Kayo Kubotaさんのデータ取得完了\n",
      "1/3ページ 14 Keiko ISHIIさんのデータ取得完了\n",
      "1/3ページ 15 Keisuke Tanaseさんのデータ取得完了\n",
      "1/3ページ 16 ken1さんのデータ取得完了\n",
      "1/3ページ 17 Kenichi Yoshidaさんのデータ取得完了\n",
      "1/3ページ 18 kida kazushigeさんのデータ取得完了\n",
      "1/3ページ 19 kiyomitsu OTAさんのデータ取得完了\n",
      "1/3ページ 20 kohei ibukiさんのデータ取得完了\n",
      "1/3ページ 21 mizuさんのデータ取得完了\n",
      "1/3ページ 22 Nakagawaさんのデータ取得完了\n",
      "1/3ページ 23 Nakayama Mさんのデータ取得完了\n",
      "1/3ページ 24 Nitta Junさんのデータ取得完了\n",
      "1/3ページ 25 Ryo Itabashiさんのデータ取得完了\n",
      "1/3ページ 26 shigeru etouさんのデータ取得完了\n",
      "1/3ページ 27 shingo.kanekoさんのデータ取得完了\n",
      "1/3ページ 28 shinichi kofuneさんのデータ取得完了\n",
      "1/3ページ 29 Shioda Kentoさんのデータ取得完了\n",
      "1/3ページ 30 shiroさんのデータ取得完了\n",
      "1/3ページ 31 shunさんのデータ取得完了\n",
      "1/3ページ 32 Shunichi Morishimaさんのデータ取得完了\n",
      "1/3ページ 33 Subaru Niimuraさんのデータ取得完了\n",
      "1/3ページ 34 sugawara mamoru(メンター)さんのデータ取得完了\n",
      "1/3ページ 35 Tomoさんのデータ取得完了\n",
      "1/3ページ 36 tosuzukiさんのデータ取得完了\n",
      "1/3ページ 37 wataru watanabeさんのデータ取得完了\n",
      "1/3ページ 38 Yoshi Kuroさんのデータ取得完了\n",
      "1/3ページ 39 YOSHIDAさんのデータ取得完了\n",
      "1/3ページ 40 Yoshiki Anpoさんのデータ取得完了\n",
      "1/3ページ 41 yu hamanoさんのデータ取得完了\n",
      "1/3ページ 42 Yudaiさんのデータ取得完了\n",
      "1/3ページ 43 Yukaさんのデータ取得完了\n",
      "1/3ページ 44 yuki yamaguchiさんのデータ取得完了\n",
      "1/3ページ 45 yunさんのデータ取得完了\n",
      "1/3ページ 46 yuta nakayamaさんのデータ取得完了\n",
      "1/3ページ 47 yyyyさんのデータ取得完了\n",
      "1/3ページ 48 あおさんのデータ取得完了\n",
      "1/3ページ 49 あきぴさんのデータ取得完了\n",
      "1/3ページ 50 ささきゆうまさんのデータ取得完了\n",
      "1/3ページの取得完了しました\n",
      "\n",
      "2へのボタンをクリックしました\n",
      "50\n",
      "2/3ページ 1 じゅんさんのデータ取得完了\n",
      "2/3ページ 2 せおさんのデータ取得完了\n",
      "2/3ページ 3 せーちゃんさんのデータ取得完了\n",
      "2/3ページ 4 つさんのデータ取得完了\n",
      "2/3ページ 5 つちやさんのデータ取得完了\n",
      "2/3ページ 6 つばささんのデータ取得完了\n",
      "2/3ページ 7 てんゆーさんのデータ取得完了\n",
      "2/3ページ 8 ともさんのデータ取得完了\n",
      "2/3ページ 9 ふみや（メンター）さんのデータ取得完了\n",
      "2/3ページ 10 やまさんのデータ取得完了\n",
      "2/3ページ 11 やまもとゆうきさんのデータ取得完了\n",
      "2/3ページ 12 りくさんのデータ取得完了\n",
      "2/3ページ 13 サンサンさんのデータ取得完了\n",
      "2/3ページ 14 マツノさんのデータ取得完了\n",
      "2/3ページ 15 三井重憲さんのデータ取得完了\n",
      "2/3ページ 16 中丸智貴さんのデータ取得完了\n",
      "2/3ページ 17 中島秀樹さんのデータ取得完了\n",
      "2/3ページ 18 亀山 紗衣さんのデータ取得完了\n",
      "2/3ページ 19 佐川靖士さんのデータ取得完了\n",
      "2/3ページ 20 前島僚さんのデータ取得完了\n",
      "2/3ページ 21 力石魁さんのデータ取得完了\n",
      "2/3ページ 22 南雲悠太郎さんのデータ取得完了\n",
      "2/3ページ 23 和田光正さんのデータ取得完了\n",
      "2/3ページ 24 大場甲喜さんのデータ取得完了\n",
      "2/3ページ 25 大塚修生さんのデータ取得完了\n",
      "2/3ページ 26 安久　寛聡さんのデータ取得完了\n",
      "2/3ページ 27 小川　幸伸さんのデータ取得完了\n",
      "2/3ページ 28 新沼 絢梨さんのデータ取得完了\n",
      "2/3ページ 29 木下和治さんのデータ取得完了\n",
      "2/3ページ 30 木村聡志さんのデータ取得完了\n",
      "2/3ページ 31 松坂さんのデータ取得完了\n",
      "2/3ページ 32 柄沢さんのデータ取得完了\n",
      "2/3ページ 33 柴田康さんのデータ取得完了\n",
      "2/3ページ 34 梶原大樹さんのデータ取得完了\n",
      "2/3ページ 35 森吉良太さんのデータ取得完了\n",
      "2/3ページ 36 植田大貴さんのデータ取得完了\n",
      "2/3ページ 37 水崎 栄一さんのデータ取得完了\n",
      "2/3ページ 38 河島浩大さんのデータ取得完了\n",
      "2/3ページ 39 泉さんのデータ取得完了\n",
      "2/3ページ 40 深沢　晶さんのデータ取得完了\n",
      "2/3ページ 41 澁谷　和奏さんのデータ取得完了\n",
      "2/3ページ 42 片山真介さんのデータ取得完了\n",
      "2/3ページ 43 片野　景一郎さんのデータ取得完了\n",
      "2/3ページ 44 玉木一彦さんのデータ取得完了\n",
      "2/3ページ 45 田中　儀隆さんのデータ取得完了\n",
      "2/3ページ 46 田口靖晃さんのデータ取得完了\n",
      "2/3ページ 47 甲斐拓実さんのデータ取得完了\n",
      "2/3ページ 48 石井 敬介さんのデータ取得完了\n",
      "2/3ページ 49 石田圭利さんのデータ取得完了\n",
      "2/3ページ 50 稲吉　洵さんのデータ取得完了\n",
      "2/3ページの取得完了しました\n",
      "\n",
      "3へのボタンをクリックしました\n",
      "10\n",
      "3/3ページ 1 笠井健太さんのデータ取得完了\n",
      "3/3ページ 2 荒井尚志さんのデータ取得完了\n",
      "3/3ページ 3 荒木優斗さんのデータ取得完了\n",
      "3/3ページ 4 藤井純輝さんのデータ取得完了\n",
      "3/3ページ 5 西山智章さんのデータ取得完了\n",
      "3/3ページ 6 遠藤和宏さんのデータ取得完了\n",
      "3/3ページ 7 野口雄気さんのデータ取得完了\n",
      "3/3ページ 8 長崎　純一さんのデータ取得完了\n",
      "3/3ページ 9 雨宮洋平さんのデータ取得完了\n",
      "3/3ページ 10 高渕拓栄さんのデータ取得完了\n",
      "3/3ページの取得完了しました\n",
      "        profile_name   mention_name                                    email\n",
      "0    Akito Nishimura    @nishimuraa                      akito0884@gmail.com\n",
      "1                ara           @ara  hagemashita.hagemasaremashita@gmail.com\n",
      "2            Atsushi       @Atsushi                     ahg.551001@gmail.com\n",
      "3       aya sugiyama  @aya sugiyama                ayasugiyama2020@gmail.com\n",
      "4            Daisuke       @Daisuke                  mondo.piovoso@gmail.com\n",
      "..               ...            ...                                      ...\n",
      "105             遠藤和宏          @遠藤和宏                endou_kzhr@jcom.zaq.ne.jp\n",
      "106             野口雄気          @野口雄気                      kuma10gzy@gmail.com\n",
      "107            長崎　純一           @jun                     jun117na@ymail.ne.jp\n",
      "108             雨宮洋平          @雨宮洋平                     kj2007ya@yahoo.co.jp\n",
      "109             高渕拓栄          @高渕拓栄                      taka1068@icloud.com\n",
      "\n",
      "[110 rows x 3 columns]\n",
      "完了\n"
     ]
    }
   ],
   "source": [
    "\n",
    "driver = selenium_run()\n",
    "auto_login(driver)\n",
    "\n",
    "# メンバーディレクトリを表示\n",
    "pg.hotkey('ctrl', 'shift', 'e')\n",
    "sleep(5)\n",
    "\n",
    "# 全員表示\n",
    "pg.press('tab', presses=1, interval=0.1)\n",
    "pg.press('enter', presses=1, interval=0.1)\n",
    "pg.press('down', presses=2, interval=0.1)\n",
    "pg.press('enter', presses=1, interval=0.1)\n",
    "sleep(2)\n",
    "\n",
    "# 50件/ページ として総ページ算出\n",
    "pages = math.ceil(110 / 50)\n",
    "print(f'計 {pages}ページ')\n",
    "\n",
    "data = []\n",
    "for page in range(pages):\n",
    "    # メンバーのXPATH取得\n",
    "    members_grid = driver.find_elements(by=By.CLASS_NAME, value='p-bp__grid_cell')\n",
    "    print(len(members_grid))\n",
    "    sleep(1)\n",
    "\n",
    "    # 1人のメンバー取り出す\n",
    "    for i, member_grid in enumerate(members_grid):\n",
    "        member_grid.click()\n",
    "        sleep(1)\n",
    "\n",
    "        # 表示名の取得\n",
    "        profile_name = driver.find_element(by=By.CLASS_NAME, value='p-r_member_profile__name__text').text\n",
    "\n",
    "        # 連絡先取得\n",
    "        email = driver.find_element(by=By.CLASS_NAME, value='c-link').get_attribute('href').split(':')[-1]\n",
    "\n",
    "        # @XXXX名の取得\n",
    "        buttons = driver.find_elements(by=By.CLASS_NAME, value='p-member_profile_buttons__button_body')\n",
    "        buttons[-1].click()\n",
    "        sleep(1)\n",
    "        mention_name = driver.find_elements(by=By.CLASS_NAME, value='c-menu_item__label')[0].text.split(': ')[-1]\n",
    "        driver.find_elements(by=By.CLASS_NAME, value='c-menu_item__label')[0].click()\n",
    "\n",
    "        datum = {\n",
    "            'profile_name': profile_name,\n",
    "            'mention_name': mention_name,\n",
    "            'email': email\n",
    "        }\n",
    "\n",
    "        data.append(datum)\n",
    "        print(f'{page + 1}/{pages}ページ {i + 1} {profile_name}さんのデータ取得完了')\n",
    "        sleep(0.5)\n",
    "    print(f'{page + 1}/{pages}ページの取得完了しました')\n",
    "\n",
    "    if page + 1 < pages:\n",
    "        # 一番下まで移動\n",
    "        pg.press('end', presses=3, interval=1)  # 大抵は1回で下へ遷移するが、たまに動かないため3回\n",
    "        sleep(2)\n",
    "        try:\n",
    "            next_button = driver.find_element(by=By.XPATH, value='//*[@aria-label=\"次のページ\"]')\n",
    "            next_button.click()\n",
    "            print(f'\\n{page + 2}へのボタンをクリックしました')\n",
    "        except Exception as e:\n",
    "            print(e)\n",
    "    else:\n",
    "        pass\n",
    "\n",
    "    sleep(2)\n",
    "\n",
    "df_profile = pd.DataFrame(data)\n",
    "print(df_profile)\n",
    "print('完了')"
   ],
   "metadata": {
    "collapsed": false,
    "pycharm": {
     "name": "#%%\n"
    }
   }
  },
  {
   "cell_type": "code",
   "execution_count": 78,
   "outputs": [
    {
     "data": {
      "text/plain": "        profile_name   mention_name                                    email\n0    Akito Nishimura    @nishimuraa                      akito0884@gmail.com\n1                ara           @ara  hagemashita.hagemasaremashita@gmail.com\n2            Atsushi       @Atsushi                     ahg.551001@gmail.com\n3       aya sugiyama  @aya sugiyama                ayasugiyama2020@gmail.com\n4            Daisuke       @Daisuke                  mondo.piovoso@gmail.com\n..               ...            ...                                      ...\n105             遠藤和宏          @遠藤和宏                endou_kzhr@jcom.zaq.ne.jp\n106             野口雄気          @野口雄気                      kuma10gzy@gmail.com\n107            長崎　純一           @jun                     jun117na@ymail.ne.jp\n108             雨宮洋平          @雨宮洋平                     kj2007ya@yahoo.co.jp\n109             高渕拓栄          @高渕拓栄                      taka1068@icloud.com\n\n[110 rows x 3 columns]",
      "text/html": "<div>\n<style scoped>\n    .dataframe tbody tr th:only-of-type {\n        vertical-align: middle;\n    }\n\n    .dataframe tbody tr th {\n        vertical-align: top;\n    }\n\n    .dataframe thead th {\n        text-align: right;\n    }\n</style>\n<table border=\"1\" class=\"dataframe\">\n  <thead>\n    <tr style=\"text-align: right;\">\n      <th></th>\n      <th>profile_name</th>\n      <th>mention_name</th>\n      <th>email</th>\n    </tr>\n  </thead>\n  <tbody>\n    <tr>\n      <th>0</th>\n      <td>Akito Nishimura</td>\n      <td>@nishimuraa</td>\n      <td>akito0884@gmail.com</td>\n    </tr>\n    <tr>\n      <th>1</th>\n      <td>ara</td>\n      <td>@ara</td>\n      <td>hagemashita.hagemasaremashita@gmail.com</td>\n    </tr>\n    <tr>\n      <th>2</th>\n      <td>Atsushi</td>\n      <td>@Atsushi</td>\n      <td>ahg.551001@gmail.com</td>\n    </tr>\n    <tr>\n      <th>3</th>\n      <td>aya sugiyama</td>\n      <td>@aya sugiyama</td>\n      <td>ayasugiyama2020@gmail.com</td>\n    </tr>\n    <tr>\n      <th>4</th>\n      <td>Daisuke</td>\n      <td>@Daisuke</td>\n      <td>mondo.piovoso@gmail.com</td>\n    </tr>\n    <tr>\n      <th>...</th>\n      <td>...</td>\n      <td>...</td>\n      <td>...</td>\n    </tr>\n    <tr>\n      <th>105</th>\n      <td>遠藤和宏</td>\n      <td>@遠藤和宏</td>\n      <td>endou_kzhr@jcom.zaq.ne.jp</td>\n    </tr>\n    <tr>\n      <th>106</th>\n      <td>野口雄気</td>\n      <td>@野口雄気</td>\n      <td>kuma10gzy@gmail.com</td>\n    </tr>\n    <tr>\n      <th>107</th>\n      <td>長崎　純一</td>\n      <td>@jun</td>\n      <td>jun117na@ymail.ne.jp</td>\n    </tr>\n    <tr>\n      <th>108</th>\n      <td>雨宮洋平</td>\n      <td>@雨宮洋平</td>\n      <td>kj2007ya@yahoo.co.jp</td>\n    </tr>\n    <tr>\n      <th>109</th>\n      <td>高渕拓栄</td>\n      <td>@高渕拓栄</td>\n      <td>taka1068@icloud.com</td>\n    </tr>\n  </tbody>\n</table>\n<p>110 rows × 3 columns</p>\n</div>"
     },
     "execution_count": 78,
     "metadata": {},
     "output_type": "execute_result"
    }
   ],
   "source": [
    "df_profile\n",
    "\n"
   ],
   "metadata": {
    "collapsed": false,
    "pycharm": {
     "name": "#%%\n"
    }
   }
  },
  {
   "cell_type": "code",
   "execution_count": 73,
   "outputs": [
    {
     "data": {
      "text/plain": "0"
     },
     "execution_count": 73,
     "metadata": {},
     "output_type": "execute_result"
    }
   ],
   "source": [],
   "metadata": {
    "collapsed": false,
    "pycharm": {
     "name": "#%%\n"
    }
   }
  },
  {
   "cell_type": "code",
   "execution_count": 72,
   "outputs": [
    {
     "data": {
      "text/plain": "656"
     },
     "execution_count": 72,
     "metadata": {},
     "output_type": "execute_result"
    }
   ],
   "source": [],
   "metadata": {
    "collapsed": false,
    "pycharm": {
     "name": "#%%\n"
    }
   }
  },
  {
   "cell_type": "code",
   "execution_count": 61,
   "outputs": [],
   "source": [],
   "metadata": {
    "collapsed": false,
    "pycharm": {
     "name": "#%%datato\n"
    }
   }
  }
 ],
 "metadata": {
  "kernelspec": {
   "display_name": "Python 3",
   "language": "python",
   "name": "python3"
  },
  "language_info": {
   "codemirror_mode": {
    "name": "ipython",
    "version": 2
   },
   "file_extension": ".py",
   "mimetype": "text/x-python",
   "name": "python",
   "nbconvert_exporter": "python",
   "pygments_lexer": "ipython2",
   "version": "2.7.6"
  }
 },
 "nbformat": 4,
 "nbformat_minor": 0
}