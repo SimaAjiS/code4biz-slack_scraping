{
 "cells": [
  {
   "cell_type": "code",
   "execution_count": 3,
   "outputs": [],
   "source": [
    "# !pip list\n",
    "# !python -m pip install --upgrade pip\n",
    "# !pip install --global-option=build_ext  --global-option=\"-IC:\\Program Files\\Graphviz\\include\" --global-option=\"-LC:\\Program Files\\Graphviz\\lib\" pygraphviz\n",
    "# !pip install pygraphviz\n",
    "# !pip install C:\\Users\\sgwya\\OneDrive\\Air_Python\\c4b-slack-scraping\\src\\pygraphviz-1.7-cp39-cp39-win_amd64.whl"
   ],
   "metadata": {
    "collapsed": false,
    "pycharm": {
     "name": "#%%\n"
    }
   }
  },
  {
   "cell_type": "code",
   "execution_count": 4,
   "outputs": [],
   "source": [
    "# import pygraphviz as pgv\n",
    "#\n",
    "# A = pgv.AGraph()\n",
    "# # add some edges\n",
    "# A.add_edge(1, 2)\n",
    "# A.add_edge(2, 3)\n",
    "# A.add_edge(1, 3)\n",
    "# A.add_edge(3, 4)\n",
    "# A.add_edge(3, 5)\n",
    "# A.add_edge(3, 6)\n",
    "# A.add_edge(4, 6)\n",
    "# # make a subgraph with rank='same'\n",
    "# B = A.add_subgraph([4, 5, 6], name=\"s1\", rank=\"same\")\n",
    "# B.graph_attr[\"rank\"] = \"same\"\n",
    "#\n",
    "# A.draw(\"test.png\", prog=\"neato\")"
   ],
   "metadata": {
    "collapsed": false,
    "pycharm": {
     "name": "#%%import pygraphviz as pgv\n"
    }
   }
  },
  {
   "cell_type": "code",
   "execution_count": 11,
   "outputs": [
    {
     "data": {
      "text/plain": "   検索結果数                    抽出日時  \\\n0     19 2022-07-05 17:44:47.894   \n1     19 2022-07-05 17:44:47.894   \n2     19 2022-07-05 17:44:47.894   \n3     19 2022-07-05 17:44:47.894   \n4     19 2022-07-05 17:44:47.894   \n\n                                           thread_ts         投稿日   投稿時間  \\\n0  https://code4biz.slack.com/archives/C036NJSDVN...  2022/03/13  00:48   \n1  https://code4biz.slack.com/archives/C036NQRBV0...  2022/03/13  00:48   \n2  https://code4biz.slack.com/archives/C036A0NPU1...  2022/03/13  00:49   \n3  https://code4biz.slack.com/archives/C036ZNV6ZS...  2022/03/13  00:50   \n4                                  1647122414.551459  2022/03/13  07:00   \n\n        投稿チャンネル     投稿者                                            投稿メッセージ  \\\n0    02-いまにゅに相談  imanyu  がこのチャンネルの説明を「いまにゅに何でも相談してください！！\\n学習やキャリア相談、プライ...   \n1     01-講義更新情報  imanyu    がこのチャンネルの説明を「教材や運営に関する更新情報を共有するチャンネルです！」に設定しました   \n2  01-いまにゅのつぶやき  imanyu  がこのチャンネルの説明を「いまにゅがただぼやくための場所です。遠慮なくコメントしていただけれ...   \n3       03-自己紹介  imanyu   がこのチャンネルの説明を「Slackに入りましたら是非自己紹介をお願いします\\n」に設定しました   \n4       03-自己紹介      松坂  はじめまして\\n松坂（まつざか）と申します。\\nPython歴:独学約3ヶ月\\n（上記とは別...   \n\n                                                 リンク リンク2 リンク3 リンク4 リンク5 リンク6  \n0  <a target=\"_blank\" href=\"https://code4biz.slac...  NaN  NaN  NaN  NaN  NaN  \n1  <a target=\"_blank\" href=\"https://code4biz.slac...  NaN  NaN  NaN  NaN  NaN  \n2  <a target=\"_blank\" href=\"https://code4biz.slac...  NaN  NaN  NaN  NaN  NaN  \n3  <a target=\"_blank\" href=\"https://code4biz.slac...  NaN  NaN  NaN  NaN  NaN  \n4  <a target=\"_blank\" href=\"https://code4biz.slac...  NaN  NaN  NaN  NaN  NaN  ",
      "text/html": "<div>\n<style scoped>\n    .dataframe tbody tr th:only-of-type {\n        vertical-align: middle;\n    }\n\n    .dataframe tbody tr th {\n        vertical-align: top;\n    }\n\n    .dataframe thead th {\n        text-align: right;\n    }\n</style>\n<table border=\"1\" class=\"dataframe\">\n  <thead>\n    <tr style=\"text-align: right;\">\n      <th></th>\n      <th>検索結果数</th>\n      <th>抽出日時</th>\n      <th>thread_ts</th>\n      <th>投稿日</th>\n      <th>投稿時間</th>\n      <th>投稿チャンネル</th>\n      <th>投稿者</th>\n      <th>投稿メッセージ</th>\n      <th>リンク</th>\n      <th>リンク2</th>\n      <th>リンク3</th>\n      <th>リンク4</th>\n      <th>リンク5</th>\n      <th>リンク6</th>\n    </tr>\n  </thead>\n  <tbody>\n    <tr>\n      <th>0</th>\n      <td>19</td>\n      <td>2022-07-05 17:44:47.894</td>\n      <td>https://code4biz.slack.com/archives/C036NJSDVN...</td>\n      <td>2022/03/13</td>\n      <td>00:48</td>\n      <td>02-いまにゅに相談</td>\n      <td>imanyu</td>\n      <td>がこのチャンネルの説明を「いまにゅに何でも相談してください！！\\n学習やキャリア相談、プライ...</td>\n      <td>&lt;a target=\"_blank\" href=\"https://code4biz.slac...</td>\n      <td>NaN</td>\n      <td>NaN</td>\n      <td>NaN</td>\n      <td>NaN</td>\n      <td>NaN</td>\n    </tr>\n    <tr>\n      <th>1</th>\n      <td>19</td>\n      <td>2022-07-05 17:44:47.894</td>\n      <td>https://code4biz.slack.com/archives/C036NQRBV0...</td>\n      <td>2022/03/13</td>\n      <td>00:48</td>\n      <td>01-講義更新情報</td>\n      <td>imanyu</td>\n      <td>がこのチャンネルの説明を「教材や運営に関する更新情報を共有するチャンネルです！」に設定しました</td>\n      <td>&lt;a target=\"_blank\" href=\"https://code4biz.slac...</td>\n      <td>NaN</td>\n      <td>NaN</td>\n      <td>NaN</td>\n      <td>NaN</td>\n      <td>NaN</td>\n    </tr>\n    <tr>\n      <th>2</th>\n      <td>19</td>\n      <td>2022-07-05 17:44:47.894</td>\n      <td>https://code4biz.slack.com/archives/C036A0NPU1...</td>\n      <td>2022/03/13</td>\n      <td>00:49</td>\n      <td>01-いまにゅのつぶやき</td>\n      <td>imanyu</td>\n      <td>がこのチャンネルの説明を「いまにゅがただぼやくための場所です。遠慮なくコメントしていただけれ...</td>\n      <td>&lt;a target=\"_blank\" href=\"https://code4biz.slac...</td>\n      <td>NaN</td>\n      <td>NaN</td>\n      <td>NaN</td>\n      <td>NaN</td>\n      <td>NaN</td>\n    </tr>\n    <tr>\n      <th>3</th>\n      <td>19</td>\n      <td>2022-07-05 17:44:47.894</td>\n      <td>https://code4biz.slack.com/archives/C036ZNV6ZS...</td>\n      <td>2022/03/13</td>\n      <td>00:50</td>\n      <td>03-自己紹介</td>\n      <td>imanyu</td>\n      <td>がこのチャンネルの説明を「Slackに入りましたら是非自己紹介をお願いします\\n」に設定しました</td>\n      <td>&lt;a target=\"_blank\" href=\"https://code4biz.slac...</td>\n      <td>NaN</td>\n      <td>NaN</td>\n      <td>NaN</td>\n      <td>NaN</td>\n      <td>NaN</td>\n    </tr>\n    <tr>\n      <th>4</th>\n      <td>19</td>\n      <td>2022-07-05 17:44:47.894</td>\n      <td>1647122414.551459</td>\n      <td>2022/03/13</td>\n      <td>07:00</td>\n      <td>03-自己紹介</td>\n      <td>松坂</td>\n      <td>はじめまして\\n松坂（まつざか）と申します。\\nPython歴:独学約3ヶ月\\n（上記とは別...</td>\n      <td>&lt;a target=\"_blank\" href=\"https://code4biz.slac...</td>\n      <td>NaN</td>\n      <td>NaN</td>\n      <td>NaN</td>\n      <td>NaN</td>\n      <td>NaN</td>\n    </tr>\n  </tbody>\n</table>\n</div>"
     },
     "execution_count": 11,
     "metadata": {},
     "output_type": "execute_result"
    }
   ],
   "source": [
    "import pandas as pd\n",
    "\n",
    "_df = pd.read_excel('src/集計.xlsx', header=0)\n",
    "_df.head()\n"
   ],
   "metadata": {
    "collapsed": false,
    "pycharm": {
     "name": "#%%\n"
    }
   }
  },
  {
   "cell_type": "code",
   "execution_count": 35,
   "outputs": [],
   "source": [
    "df = _df[['投稿者', '投稿メッセージ' ]]"
   ],
   "metadata": {
    "collapsed": false,
    "pycharm": {
     "name": "#%%\n"
    }
   }
  },
  {
   "cell_type": "code",
   "execution_count": 42,
   "outputs": [
    {
     "data": {
      "text/plain": "         投稿者                                            投稿メッセージ\n0     imanyu  がこのチャンネルの説明を「いまにゅに何でも相談してください！！\\n学習やキャリア相談、プライ...\n1     imanyu    がこのチャンネルの説明を「教材や運営に関する更新情報を共有するチャンネルです！」に設定しました\n2     imanyu  がこのチャンネルの説明を「いまにゅがただぼやくための場所です。遠慮なくコメントしていただけれ...\n3     imanyu   がこのチャンネルの説明を「Slackに入りましたら是非自己紹介をお願いします\\n」に設定しました\n5     imanyu  @松坂\\n\\n自己紹介ありがとうございます！\\n\\nおぉ、よくわからぬままDjangoを触っ...\n...      ...                                                ...\n6097  imanyu        @kino\\n\\nkinoさんのレベルアップを感じる投稿でなんかめちゃくちゃ嬉しいです\n6098  imanyu  しかも、SQLAlchemy のドキュメントは比較的読みにくい部類に入るので、なおさら素晴ら...\n6129  imanyu                         @Sagawa\\n\\nデザインの好みは分かれますよね\n6131  imanyu             ありがとうございます\\n\\nサムネお願いしてる人はいつもと同じなんですけどね\n6142  imanyu                                              おぉー！！\n\n[1095 rows x 2 columns]",
      "text/html": "<div>\n<style scoped>\n    .dataframe tbody tr th:only-of-type {\n        vertical-align: middle;\n    }\n\n    .dataframe tbody tr th {\n        vertical-align: top;\n    }\n\n    .dataframe thead th {\n        text-align: right;\n    }\n</style>\n<table border=\"1\" class=\"dataframe\">\n  <thead>\n    <tr style=\"text-align: right;\">\n      <th></th>\n      <th>投稿者</th>\n      <th>投稿メッセージ</th>\n    </tr>\n  </thead>\n  <tbody>\n    <tr>\n      <th>0</th>\n      <td>imanyu</td>\n      <td>がこのチャンネルの説明を「いまにゅに何でも相談してください！！\\n学習やキャリア相談、プライ...</td>\n    </tr>\n    <tr>\n      <th>1</th>\n      <td>imanyu</td>\n      <td>がこのチャンネルの説明を「教材や運営に関する更新情報を共有するチャンネルです！」に設定しました</td>\n    </tr>\n    <tr>\n      <th>2</th>\n      <td>imanyu</td>\n      <td>がこのチャンネルの説明を「いまにゅがただぼやくための場所です。遠慮なくコメントしていただけれ...</td>\n    </tr>\n    <tr>\n      <th>3</th>\n      <td>imanyu</td>\n      <td>がこのチャンネルの説明を「Slackに入りましたら是非自己紹介をお願いします\\n」に設定しました</td>\n    </tr>\n    <tr>\n      <th>5</th>\n      <td>imanyu</td>\n      <td>@松坂\\n\\n自己紹介ありがとうございます！\\n\\nおぉ、よくわからぬままDjangoを触っ...</td>\n    </tr>\n    <tr>\n      <th>...</th>\n      <td>...</td>\n      <td>...</td>\n    </tr>\n    <tr>\n      <th>6097</th>\n      <td>imanyu</td>\n      <td>@kino\\n\\nkinoさんのレベルアップを感じる投稿でなんかめちゃくちゃ嬉しいです</td>\n    </tr>\n    <tr>\n      <th>6098</th>\n      <td>imanyu</td>\n      <td>しかも、SQLAlchemy のドキュメントは比較的読みにくい部類に入るので、なおさら素晴ら...</td>\n    </tr>\n    <tr>\n      <th>6129</th>\n      <td>imanyu</td>\n      <td>@Sagawa\\n\\nデザインの好みは分かれますよね</td>\n    </tr>\n    <tr>\n      <th>6131</th>\n      <td>imanyu</td>\n      <td>ありがとうございます\\n\\nサムネお願いしてる人はいつもと同じなんですけどね</td>\n    </tr>\n    <tr>\n      <th>6142</th>\n      <td>imanyu</td>\n      <td>おぉー！！</td>\n    </tr>\n  </tbody>\n</table>\n<p>1095 rows × 2 columns</p>\n</div>"
     },
     "execution_count": 42,
     "metadata": {},
     "output_type": "execute_result"
    }
   ],
   "source": [
    "# Slack投稿者のリスト作成\n",
    "df_members = df['投稿者'].unique()\n",
    "df_members\n",
    "\n",
    "df_member_source = df_members[0]\n",
    "\n",
    "df_source = df[df['投稿者'] == df_member_source]\n",
    "df_source\n",
    "# df.iloc[5, 1]"
   ],
   "metadata": {
    "collapsed": false,
    "pycharm": {
     "name": "#%%\n"
    }
   }
  },
  {
   "cell_type": "code",
   "execution_count": 44,
   "outputs": [
    {
     "data": {
      "text/plain": "'佐川靖士'"
     },
     "execution_count": 44,
     "metadata": {},
     "output_type": "execute_result"
    }
   ],
   "source": [
    "df_member_target = df_members[11]\n",
    "df_member_target\n",
    "\n"
   ],
   "metadata": {
    "collapsed": false,
    "pycharm": {
     "name": "#%%\n"
    }
   }
  },
  {
   "cell_type": "code",
   "execution_count": 5,
   "outputs": [
    {
     "data": {
      "text/plain": "<Figure size 432x288 with 1 Axes>",
      "image/png": "[encoded data removed]"
     },
     "metadata": {},
     "output_type": "display_data"
    }
   ],
   "source": [
    "import networkx as nx\n",
    "import matplotlib.pyplot as plt\n",
    "\n",
    "# グラフ作成\n",
    "G = nx.Graph()\n",
    "\n",
    "# ノード追加\n",
    "G.add_node(1)\n",
    "\n",
    "# ノード追加（複数）\n",
    "G.add_nodes_from([2, 3])\n",
    "\n",
    "# エッジ追加\n",
    "G.add_edge(1, 2)\n",
    "e = (2, 3)\n",
    "G.add_edge(*e)  # unpack edge tuple*\n",
    "\n",
    "# エッジ追加（複数）\n",
    "G.add_edges_from([(1, 4), (1, 5)])\n",
    "\n",
    "# グラフ出力\n",
    "fig = plt.figure()\n",
    "pos = nx.circular_layout(G)\n",
    "nx.draw_networkx(G, pos)\n",
    "plt.axis(\"off\")\n",
    "fig.savefig(\"test.png\")"
   ],
   "metadata": {
    "collapsed": false,
    "pycharm": {
     "name": "#%%import networkx as nx\n"
    }
   }
  },
  {
   "cell_type": "code",
   "execution_count": null,
   "outputs": [],
   "source": [],
   "metadata": {
    "collapsed": false,
    "pycharm": {
     "name": "#%%\n"
    }
   }
  }
 ],
 "metadata": {
  "kernelspec": {
   "display_name": "Python 3",
   "language": "python",
   "name": "python3"
  },
  "language_info": {
   "codemirror_mode": {
    "name": "ipython",
    "version": 2
   },
   "file_extension": ".py",
   "mimetype": "text/x-python",
   "name": "python",
   "nbconvert_exporter": "python",
   "pygments_lexer": "ipython2",
   "version": "2.7.6"
  }
 },
 "nbformat": 4,
 "nbformat_minor": 0
}