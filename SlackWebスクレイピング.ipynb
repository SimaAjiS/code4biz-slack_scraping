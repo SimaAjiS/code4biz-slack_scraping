{
 "cells": [
  {
   "cell_type": "code",
   "execution_count": 1,
   "outputs": [],
   "source": [
    "import json\n",
    "from time import sleep\n",
    "\n",
    "import pyautogui as pg\n",
    "from selenium import webdriver\n",
    "from selenium.webdriver.chrome.service import Service\n",
    "from selenium.webdriver.common.by import By\n",
    "from webdriver_manager.chrome import ChromeDriverManager"
   ],
   "metadata": {
    "collapsed": false,
    "pycharm": {
     "name": "#%%\n"
    }
   }
  },
  {
   "cell_type": "code",
   "execution_count": 2,
   "outputs": [],
   "source": [
    "def selenium_run():\n",
    "    service = Service(ChromeDriverManager().install())\n",
    "    driver = webdriver.Chrome(service=service)\n",
    "    url = 'https://code4biz.slack.com/'\n",
    "\n",
    "    # 暗黙的な待機\n",
    "    driver.implicitly_wait(5)\n",
    "    driver.get(url)\n",
    "    driver.maximize_window()\n",
    "    return driver"
   ],
   "metadata": {
    "collapsed": false,
    "pycharm": {
     "name": "#%%\n"
    }
   }
  },
  {
   "cell_type": "code",
   "execution_count": 9,
   "outputs": [],
   "source": [
    "def auto_login(driver):\n",
    "    # ログインページ処理\n",
    "    form = driver.find_element(by=By.CSS_SELECTOR, value='#signin_form')\n",
    "    login_mail = form.find_element(by=By.NAME, value='email')\n",
    "    login_passwd = form.find_element(by=By.NAME, value='password')\n",
    "\n",
    "    # 認証情報\n",
    "    with open('src/auth.json') as f:\n",
    "        auth = json.load(f)\n",
    "\n",
    "    my_mail = auth['my_mail']\n",
    "    my_pass = auth['my_pass']\n",
    "\n",
    "    # ログイン情報初期化\n",
    "    login_mail.clear()\n",
    "    login_passwd.clear()\n",
    "\n",
    "    login_mail.send_keys(my_mail)\n",
    "    login_passwd.send_keys(my_pass)\n",
    "\n",
    "    # サインインボタンを押す\n",
    "    sleep(0.5)\n",
    "    btn = form.find_element(by=By.CSS_SELECTOR, value='#signin_btn')\n",
    "    btn.click()\n",
    "    sleep(2)\n",
    "\n",
    "    # Slackアプリ起動確認メッセージのキャンセル\n",
    "    pg.press('enter', presses=1, interval=0.1)\n",
    "    sleep(1)\n",
    "\n",
    "    # ブラウザでSlack起動\n",
    "    pg.press('tab', presses=2, interval=0.1)\n",
    "    pg.press('enter', presses=1, interval=0.1)\n",
    "    sleep(2)"
   ],
   "metadata": {
    "collapsed": false,
    "pycharm": {
     "name": "#%%\n"
    }
   }
  },
  {
   "cell_type": "code",
   "execution_count": 11,
   "outputs": [
    {
     "name": "stdout",
     "output_type": "stream",
     "text": [
      "\n"
     ]
    },
    {
     "name": "stderr",
     "output_type": "stream",
     "text": [
      "[WDM] - ====== WebDriver manager ======\n",
      "[WDM] - Current google-chrome version is 103.0.5060\n",
      "[WDM] - Get LATEST chromedriver version for 103.0.5060 google-chrome\n",
      "[WDM] - Driver [C:\\Users\\sgwya\\.wdm\\drivers\\chromedriver\\win32\\103.0.5060.53\\chromedriver.exe] found in cache\n"
     ]
    }
   ],
   "source": [],
   "metadata": {
    "collapsed": false,
    "pycharm": {
     "name": "#%%\n"
    }
   }
  },
  {
   "cell_type": "code",
   "execution_count": 101,
   "outputs": [],
   "source": [
    "def to_search_yesterday():\n",
    "    # 検索フィルターで期間指定\n",
    "    pg.press('tab', presses=12, interval=0.1)\n",
    "    pg.press('enter', presses=1, interval=0.1)\n",
    "    sleep(1)\n",
    "\n",
    "    # 日付検索を昨日にする\n",
    "    pg.press('tab', presses=4, interval=0.1)\n",
    "    pg.press('enter', presses=1, interval=0.1)\n",
    "    pg.press('down', presses=3, interval=0.1)\n",
    "    pg.press('enter', presses=1, interval=0.1)\n",
    "\n",
    "\n",
    "    pg.press('tab', presses=5, interval=0.1)\n",
    "    pg.press('enter', presses=1, interval=0.1)\n",
    "\n",
    "    # 新→旧表示\n",
    "    # pg.press('tab', presses=15, interval=0.1)\n",
    "    # pg.press('enter', presses=1, interval=0.1)\n",
    "    # pg.press('down', presses=1, interval=0.1)\n",
    "    # pg.press('enter', presses=1, interval=0.1)\n",
    "\n",
    "    # 100件表示\n",
    "    # pg.press('tab', presses=16, interval=0.1)\n",
    "    # pg.press('enter', presses=1, interval=0.1)\n",
    "    # pg.press('down', presses=2, interval=0.1)\n",
    "    # pg.press('enter', presses=1, interval=0.1)\n"
   ],
   "metadata": {
    "collapsed": false,
    "pycharm": {
     "name": "#%%\n"
    }
   }
  },
  {
   "cell_type": "code",
   "execution_count": 102,
   "outputs": [
    {
     "name": "stdout",
     "output_type": "stream",
     "text": [
      "\n"
     ]
    },
    {
     "name": "stderr",
     "output_type": "stream",
     "text": [
      "[WDM] - ====== WebDriver manager ======\n",
      "[WDM] - Current google-chrome version is 103.0.5060\n",
      "[WDM] - Get LATEST chromedriver version for 103.0.5060 google-chrome\n",
      "[WDM] - Driver [C:\\Users\\sgwya\\.wdm\\drivers\\chromedriver\\win32\\103.0.5060.53\\chromedriver.exe] found in cache\n"
     ]
    },
    {
     "data": {
      "text/plain": "{'投稿日': '6月30日',\n '投稿時間': '21:19',\n '投稿チャンネル': '01-いまにゅのつぶやき',\n '投稿者': '片山真介',\n '投稿メッセージ': '@Imanyu\\n\\n「code4biz 受講後、もう１ランクアップするために必要なことと乗り越え方」\\ncode4biz 第一期の受講が終わっても、Python の学習は絶対に続けよう！と思えるようになりました\\n... もっと表示する',\n 'リンク': 'https://code4biz.slack.com/team/U02HDQ4GGUE'}"
     },
     "execution_count": 102,
     "metadata": {},
     "output_type": "execute_result"
    }
   ],
   "source": [
    "driver = selenium_run()\n",
    "auto_login(driver)\n",
    "\n",
    "# SlackのWebページが完全に立ち上がるまで5秒待機\n",
    "sleep(8)\n",
    "to_search_yesterday()\n",
    "sleep(1)\n",
    "\n",
    "message_groups = driver.find_elements(by=By.CLASS_NAME, value='c-message_group')\n",
    "# len(message_groups)\n",
    "message = message_groups[4]\n",
    "date = message.find_element(by=By.CLASS_NAME, value='c-message_group__header_date').text\n",
    "timestamp = message.find_element(by=By.CLASS_NAME, value='c-timestamp__label').text\n",
    "channel_name = message.find_element(by=By.CLASS_NAME, value='p-deprecated_channel_name__text').text\n",
    "sender_name = message.find_element(by=By.CLASS_NAME, value='c-message__sender').text\n",
    "text_section = message.find_element(by=By.CLASS_NAME, value='p-rich_text_section').text\n",
    "url = message.find_elements(by=By.TAG_NAME, value='a')[-1].get_attribute('href')\n",
    "datum = {\n",
    "    '投稿日' : date,\n",
    "    '投稿時間' : timestamp,\n",
    "    '投稿チャンネル' : channel_name,\n",
    "    '投稿者' : sender_name,\n",
    "    '投稿メッセージ' : text_section,\n",
    "    'リンク' : url\n",
    "}\n",
    "datum"
   ],
   "metadata": {
    "collapsed": false,
    "pycharm": {
     "name": "#%%\n"
    }
   }
  },
  {
   "cell_type": "code",
   "execution_count": 56,
   "outputs": [],
   "source": [],
   "metadata": {
    "collapsed": false,
    "pycharm": {
     "name": "#%%\n"
    }
   }
  },
  {
   "cell_type": "code",
   "execution_count": 76,
   "outputs": [
    {
     "data": {
      "text/plain": "'ありがとうございます！'"
     },
     "execution_count": 76,
     "metadata": {},
     "output_type": "execute_result"
    }
   ],
   "source": [],
   "metadata": {
    "collapsed": false,
    "pycharm": {
     "name": "#%%\n"
    }
   }
  }
 ],
 "metadata": {
  "kernelspec": {
   "display_name": "Python 3",
   "language": "python",
   "name": "python3"
  },
  "language_info": {
   "codemirror_mode": {
    "name": "ipython",
    "version": 2
   },
   "file_extension": ".py",
   "mimetype": "text/x-python",
   "name": "python",
   "nbconvert_exporter": "python",
   "pygments_lexer": "ipython2",
   "version": "2.7.6"
  }
 },
 "nbformat": 4,
 "nbformat_minor": 0
}