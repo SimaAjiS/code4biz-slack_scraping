{
 "cells": [
  {
   "cell_type": "code",
   "execution_count": 27,
   "outputs": [],
   "source": [
    "import json\n",
    "from time import sleep\n",
    "\n",
    "from selenium import webdriver\n",
    "from selenium.webdriver.chrome.service import Service\n",
    "from selenium.webdriver.common.by import By\n",
    "from webdriver_manager.chrome import ChromeDriverManager\n",
    "\n",
    "import pyautogui as pg"
   ],
   "metadata": {
    "collapsed": false,
    "pycharm": {
     "name": "#%%\n"
    }
   }
  },
  {
   "cell_type": "code",
   "execution_count": 28,
   "outputs": [],
   "source": [
    "def selenium_run():\n",
    "    service = Service(ChromeDriverManager().install())\n",
    "    driver = webdriver.Chrome(service=service)\n",
    "    url = 'https://code4biz.slack.com/'\n",
    "\n",
    "    # 暗黙的な待機\n",
    "    driver.implicitly_wait(5)\n",
    "    driver.get(url)\n",
    "    driver.maximize_window()\n",
    "    return driver"
   ],
   "metadata": {
    "collapsed": false,
    "pycharm": {
     "name": "#%%\n"
    }
   }
  },
  {
   "cell_type": "code",
   "execution_count": 29,
   "outputs": [],
   "source": [
    "def auto_login(driver):\n",
    "    # ログインページ処理\n",
    "    form = driver.find_element(by=By.CSS_SELECTOR, value='#signin_form')\n",
    "    login_mail = form.find_element(by=By.NAME, value='email')\n",
    "    login_passwd = form.find_element(by=By.NAME, value='password')\n",
    "\n",
    "    # 認証情報\n",
    "    with open('src/auth.json') as f:\n",
    "        auth = json.load(f)\n",
    "\n",
    "    my_mail = auth['my_mail']\n",
    "    my_pass = auth['my_pass']\n",
    "\n",
    "    # ログイン情報初期化\n",
    "    login_mail.clear()\n",
    "    login_passwd.clear()\n",
    "\n",
    "    login_mail.send_keys(my_mail)\n",
    "    login_passwd.send_keys(my_pass)\n",
    "\n",
    "    # サインインボタンを押す\n",
    "    sleep(0.5)\n",
    "    btn = form.find_element(by=By.CSS_SELECTOR, value='#signin_btn')\n",
    "    btn.click()\n",
    "    sleep(2)\n",
    "\n",
    "    # Slackアプリ起動確認メッセージのキャンセル\n",
    "    pg.press('enter', presses=1, interval=0.1)\n",
    "\n",
    "    # ブラウザでSlack起動\n",
    "    pg.press('tab', presses=2, interval=0.1)\n",
    "    pg.press('enter', presses=1, interval=0.1)\n",
    "    sleep(2)"
   ],
   "metadata": {
    "collapsed": false,
    "pycharm": {
     "name": "#%%\n"
    }
   }
  },
  {
   "cell_type": "code",
   "execution_count": 30,
   "outputs": [
    {
     "name": "stdout",
     "output_type": "stream",
     "text": [
      "\n"
     ]
    },
    {
     "name": "stderr",
     "output_type": "stream",
     "text": [
      "[WDM] - ====== WebDriver manager ======\n",
      "[WDM] - Current google-chrome version is 103.0.5060\n",
      "[WDM] - Get LATEST chromedriver version for 103.0.5060 google-chrome\n",
      "[WDM] - Driver [C:\\Users\\sgwya\\.wdm\\drivers\\chromedriver\\win32\\103.0.5060.53\\chromedriver.exe] found in cache\n"
     ]
    }
   ],
   "source": [
    "driver = selenium_run()\n",
    "auto_login(driver)"
   ],
   "metadata": {
    "collapsed": false,
    "pycharm": {
     "name": "#%%\n"
    }
   }
  },
  {
   "cell_type": "code",
   "execution_count": 33,
   "outputs": [
    {
     "data": {
      "text/plain": "<selenium.webdriver.remote.webelement.WebElement (session=\"47b7cd87b24b26f3567119d06ed68683\", element=\"ff99b63f-d2d9-4142-a504-33a6f44c6fc8\")>"
     },
     "execution_count": 33,
     "metadata": {},
     "output_type": "execute_result"
    }
   ],
   "source": [
    "sidebar = driver.find_element(by=By.CSS_SELECTOR, value='#channel_sidebar_group_expanded > div.p-channel_sidebar.p-channel_sidebar--classic_nav.p-channel_sidebar--iap1.p-channel_sidebar--dimming.p-channel_sidebar--contain > div > div:nth-child(1) > div > div > div.c-scrollbar__hider > div > div')\n",
    "sidebar"
   ],
   "metadata": {
    "collapsed": false,
    "pycharm": {
     "name": "#%%\n"
    }
   }
  },
  {
   "cell_type": "code",
   "execution_count": null,
   "outputs": [],
   "source": [
    "#C036UAP19V0 > div"
   ],
   "metadata": {
    "collapsed": false,
    "pycharm": {
     "name": "#%%\n"
    }
   }
  }
 ],
 "metadata": {
  "kernelspec": {
   "display_name": "Python 3",
   "language": "python",
   "name": "python3"
  },
  "language_info": {
   "codemirror_mode": {
    "name": "ipython",
    "version": 2
   },
   "file_extension": ".py",
   "mimetype": "text/x-python",
   "name": "python",
   "nbconvert_exporter": "python",
   "pygments_lexer": "ipython2",
   "version": "2.7.6"
  }
 },
 "nbformat": 4,
 "nbformat_minor": 0
}