{
 "cells": [
  {
   "cell_type": "code",
   "execution_count": 28,
   "outputs": [
    {
     "name": "stdout",
     "output_type": "stream",
     "text": [
      "\n"
     ]
    },
    {
     "name": "stderr",
     "output_type": "stream",
     "text": [
      "[WDM] - ====== WebDriver manager ======\n",
      "[WDM] - Current google-chrome version is 103.0.5060\n",
      "[WDM] - Get LATEST chromedriver version for 103.0.5060 google-chrome\n",
      "[WDM] - Driver [C:\\Users\\sgwya\\.wdm\\drivers\\chromedriver\\win32\\103.0.5060.53\\chromedriver.exe] found in cache\n"
     ]
    },
    {
     "name": "stdout",
     "output_type": "stream",
     "text": [
      "検索日:2022-03-13\n",
      "検索結果数：19\n"
     ]
    }
   ],
   "source": [
    "from selenium.webdriver.common.by import By\n",
    "from time import sleep\n",
    "from main import create_search_day_list, selenium_run, auto_login, to_search_date, display_smaller\n",
    "import pyautogui as pg\n",
    "\n",
    "# 抽出期間の取得\n",
    "start = '2022-03-13'\n",
    "end = '2022-03-13'\n",
    "search_days = create_search_day_list(start, end)\n",
    "\n",
    "# 抽出期間より1日毎取り出す\n",
    "for _search_day in search_days:\n",
    "    search_day = _search_day.strftime(\"%Y-%m-%d\")\n",
    "\n",
    "    # データ格納用\n",
    "    data = []\n",
    "\n",
    "    driver = selenium_run()\n",
    "    auto_login(driver)\n",
    "\n",
    "    # 抽出日で全件検索\n",
    "    to_search_date(search_day)\n",
    "    sleep(2)\n",
    "\n",
    "    # 検索件数の取得\n",
    "    search_results_count = int(driver.find_element(by=By.CLASS_NAME, value='c-tabs__tab_count').text)\n",
    "    print(f'検索結果数：{search_results_count}')"
   ],
   "metadata": {
    "collapsed": false,
    "pycharm": {
     "name": "#%%\n"
    }
   }
  },
  {
   "cell_type": "code",
   "execution_count": null,
   "outputs": [],
   "source": [
    "\n",
    "    # 並べ替え：新 → 古\n",
    "    pg.press('tab', presses=16, interval=0.2)\n",
    "    pg.press('enter', presses=1, interval=0.1)\n",
    "    pg.press('down', presses=2, interval=0.2)\n",
    "    pg.press('enter', presses=1, interval=0.1)\n",
    "    # 全件表示\n",
    "    pg.press('tab', presses=1, interval=0.2)\n",
    "    pg.press('enter', presses=1, interval=0.1)\n",
    "    pg.press('down', presses=3, interval=0.2)\n",
    "    pg.press('enter', presses=1, interval=0.1)\n",
    "\n",
    "    # 表示を小さくする\n",
    "    display_smaller()\n",
    "\n",
    "    # 一番下まで移動\n",
    "    pg.press('tab', presses=3, interval=0.5)\n",
    "    pg.press('pagedown', presses=10, interval=0.5)\n",
    "    sleep(2)"
   ],
   "metadata": {
    "collapsed": false,
    "pycharm": {
     "name": "#%%\n"
    }
   }
  },
  {
   "cell_type": "code",
   "execution_count": 19,
   "outputs": [],
   "source": [
    "message_groups = driver.find_elements(by=By.CLASS_NAME, value='c-message_group')"
   ],
   "metadata": {
    "collapsed": false,
    "pycharm": {
     "name": "#%%\n"
    }
   }
  },
  {
   "cell_type": "code",
   "execution_count": 20,
   "outputs": [],
   "source": [
    "message = message_groups[12]"
   ],
   "metadata": {
    "collapsed": false,
    "pycharm": {
     "name": "#%%\n"
    }
   }
  },
  {
   "cell_type": "code",
   "execution_count": 27,
   "outputs": [],
   "source": [
    "def get_text_section(message, class_name):\n",
    "    text_section = message.find_element(by=By.CLASS_NAME, value=class_name).text\n",
    "    print(class_name)\n",
    "    try:\n",
    "        # リスト表記をしているメッセージへの対応\n",
    "        lists = message.find_elements(by=By.TAG_NAME, value='li')\n",
    "        if lists is not None:\n",
    "            for list in lists:\n",
    "                text_section += list.text + '\\n'\n",
    "    except:\n",
    "        pass\n",
    "    return text_section"
   ],
   "metadata": {
    "collapsed": false,
    "pycharm": {
     "name": "#%%\n"
    }
   }
  }
 ],
 "metadata": {
  "kernelspec": {
   "display_name": "Python 3",
   "language": "python",
   "name": "python3"
  },
  "language_info": {
   "codemirror_mode": {
    "name": "ipython",
    "version": 2
   },
   "file_extension": ".py",
   "mimetype": "text/x-python",
   "name": "python",
   "nbconvert_exporter": "python",
   "pygments_lexer": "ipython2",
   "version": "2.7.6"
  }
 },
 "nbformat": 4,
 "nbformat_minor": 0
}