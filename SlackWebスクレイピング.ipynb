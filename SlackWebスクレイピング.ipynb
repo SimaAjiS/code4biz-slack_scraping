{
 "cells": [
  {
   "cell_type": "code",
   "execution_count": 47,
   "outputs": [],
   "source": [
    "import main\n"
   ],
   "metadata": {
    "collapsed": false,
    "pycharm": {
     "name": "#%%\n"
    }
   }
  },
  {
   "cell_type": "code",
   "execution_count": 50,
   "outputs": [
    {
     "name": "stdout",
     "output_type": "stream",
     "text": [
      "\n"
     ]
    },
    {
     "name": "stderr",
     "output_type": "stream",
     "text": [
      "[WDM] - ====== WebDriver manager ======\n",
      "[WDM] - Current google-chrome version is 103.0.5060\n",
      "[WDM] - Get LATEST chromedriver version for 103.0.5060 google-chrome\n",
      "[WDM] - Driver [C:\\Users\\sgwya\\.wdm\\drivers\\chromedriver\\win32\\103.0.5060.53\\chromedriver.exe] found in cache\n"
     ]
    },
    {
     "name": "stdout",
     "output_type": "stream",
     "text": [
      "検索日:2022-03-21\n",
      "検索結果数：41\n"
     ]
    }
   ],
   "source": [
    "# 抽出期間の取得\n",
    "start = '2022-03-21'\n",
    "end = '2022-03-21'\n",
    "search_days = create_search_day_list(start, end)\n",
    "\n",
    "# 抽出期間より1日毎取り出す\n",
    "for _search_day in search_days:\n",
    "    search_day = _search_day.strftime(\"%Y-%m-%d\")\n",
    "\n",
    "    # データ格納用\n",
    "    data = []\n",
    "\n",
    "    driver = selenium_run()\n",
    "    auto_login(driver)\n",
    "\n",
    "    # 抽出日で全件検索\n",
    "    to_search_date(search_day)\n",
    "    sleep(2)\n",
    "\n",
    "    # 検索件数の取得\n",
    "    search_results_count = int(driver.find_element(by=By.CLASS_NAME, value='c-tabs__tab_count').text)\n",
    "    print(f'検索結果数：{search_results_count}')\n",
    "\n",
    "    # 並べ替え：古い → 新\n",
    "    pg.press('tab', presses=16, interval=0.2)\n",
    "    pg.press('enter', presses=1, interval=0.1)\n",
    "    pg.press('down', presses=3, interval=0.2)\n",
    "    pg.press('enter', presses=1, interval=0.1)\n",
    "    # 全件表示\n",
    "    pg.press('tab', presses=1, interval=0.2)\n",
    "    pg.press('enter', presses=1, interval=0.1)\n",
    "    pg.press('down', presses=3, interval=0.2)\n",
    "    pg.press('enter', presses=1, interval=0.1)\n",
    "\n",
    "    # 表示を小さくする\n",
    "    display_smaller()\n",
    "\n",
    "    # 一番下まで移動\n",
    "    pg.press('tab', presses=3, interval=0.5)\n",
    "    pg.press('pagedown', presses=10, interval=0.5)\n",
    "    sleep(2)"
   ],
   "metadata": {
    "collapsed": false,
    "pycharm": {
     "name": "#%%\n"
    }
   }
  }
 ],
 "metadata": {
  "kernelspec": {
   "display_name": "Python 3",
   "language": "python",
   "name": "python3"
  },
  "language_info": {
   "codemirror_mode": {
    "name": "ipython",
    "version": 2
   },
   "file_extension": ".py",
   "mimetype": "text/x-python",
   "name": "python",
   "nbconvert_exporter": "python",
   "pygments_lexer": "ipython2",
   "version": "2.7.6"
  }
 },
 "nbformat": 4,
 "nbformat_minor": 0
}