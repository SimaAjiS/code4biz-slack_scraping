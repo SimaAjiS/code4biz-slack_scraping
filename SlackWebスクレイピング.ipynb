{
 "cells": [
  {
   "cell_type": "code",
   "execution_count": 50,
   "outputs": [],
   "source": [
    "import json\n",
    "from time import sleep\n",
    "\n",
    "import pandas as pd\n",
    "import pyautogui as pg\n",
    "import pyperclip\n",
    "from selenium import webdriver\n",
    "from selenium.webdriver import ActionChains\n",
    "from selenium.webdriver.chrome.service import Service\n",
    "from selenium.webdriver.common.by import By\n",
    "from webdriver_manager.chrome import ChromeDriverManager"
   ],
   "metadata": {
    "collapsed": false,
    "pycharm": {
     "name": "#%%\n"
    }
   }
  },
  {
   "cell_type": "code",
   "execution_count": 51,
   "outputs": [],
   "source": [
    "def selenium_run():\n",
    "    service = Service(ChromeDriverManager().install())\n",
    "    driver = webdriver.Chrome(service=service)\n",
    "    url = 'https://code4biz.slack.com/'\n",
    "\n",
    "    # 暗黙的な待機\n",
    "    driver.implicitly_wait(5)\n",
    "    driver.get(url)\n",
    "    driver.maximize_window()\n",
    "    return driver"
   ],
   "metadata": {
    "collapsed": false,
    "pycharm": {
     "name": "#%%\n"
    }
   }
  },
  {
   "cell_type": "code",
   "execution_count": 52,
   "outputs": [],
   "source": [
    "def auto_login(driver):\n",
    "    # ログインページ処理\n",
    "    form = driver.find_element(by=By.CSS_SELECTOR, value='#signin_form')\n",
    "    login_mail = form.find_element(by=By.NAME, value='email')\n",
    "    login_passwd = form.find_element(by=By.NAME, value='password')\n",
    "\n",
    "    # 認証情報\n",
    "    with open('src/auth.json') as f:\n",
    "        auth = json.load(f)\n",
    "\n",
    "    my_mail = auth['my_mail']\n",
    "    my_pass = auth['my_pass']\n",
    "\n",
    "    # ログイン情報初期化\n",
    "    login_mail.clear()\n",
    "    login_passwd.clear()\n",
    "\n",
    "    login_mail.send_keys(my_mail)\n",
    "    login_passwd.send_keys(my_pass)\n",
    "\n",
    "    # サインインボタンを押す\n",
    "    sleep(0.5)\n",
    "    btn = form.find_element(by=By.CSS_SELECTOR, value='#signin_btn')\n",
    "    btn.click()\n",
    "    sleep(2)\n",
    "\n",
    "    # Slackアプリ起動確認メッセージのキャンセル\n",
    "    pg.press('enter', presses=1, interval=0.1)\n",
    "    sleep(1)\n",
    "\n",
    "    # ブラウザでSlack起動\n",
    "    pg.press('tab', presses=2, interval=0.1)\n",
    "    pg.press('enter', presses=1, interval=0.1)\n",
    "\n",
    "    # SlackのWebページが完全に立ち上がるまで5秒待機\n",
    "    sleep(8)"
   ],
   "metadata": {
    "collapsed": false,
    "pycharm": {
     "name": "#%%\n"
    }
   }
  },
  {
   "cell_type": "code",
   "execution_count": 53,
   "outputs": [],
   "source": [
    "# PyAutoGUIで日本語入力も対応する\n",
    "def write_jp(text):\n",
    "    sleep(0.5)\n",
    "    pyperclip.copy(text)\n",
    "    pg.hotkey('ctrl', 'v')\n",
    "\n",
    "\n",
    "# course_link列をハイパーリンク化\n",
    "def make_clickable(course_link):\n",
    "    return f'<a target=\"_blank\" href=\"{course_link}\">{course_link}</a>'\n",
    "\n",
    "\n",
    "def jump_to_search_box():\n",
    "    # 検索フィルターで期間指定\n",
    "    pg.press('tab', presses=12, interval=0.2)\n",
    "    pg.press('enter', presses=1, interval=0.1)\n",
    "    sleep(1)\n",
    "\n",
    "\n",
    "def display_smaller():\n",
    "    # 検索結果表示画面の表示を小さくする（一度の表示できる件数を増やす）\n",
    "    sleep(1)\n",
    "    pg.hotkey('ctrl', '-')\n",
    "    pg.hotkey('ctrl', '-')\n",
    "    pg.hotkey('ctrl', '-')\n",
    "    pg.hotkey('ctrl', '-')\n",
    "    pg.hotkey('ctrl', '-')\n",
    "    pg.hotkey('ctrl', '-')\n",
    "    pg.hotkey('ctrl', '-')\n",
    "    sleep(1)"
   ],
   "metadata": {
    "collapsed": false,
    "pycharm": {
     "name": "#%%\n"
    }
   }
  },
  {
   "cell_type": "code",
   "execution_count": 54,
   "outputs": [],
   "source": [
    "def to_search_yesterday():\n",
    "    jump_to_search_box()\n",
    "\n",
    "    # 日付検索を昨日にする\n",
    "    pg.press('tab', presses=4, interval=0.2)\n",
    "    pg.press('enter', presses=1, interval=0.1)\n",
    "    pg.press('down', presses=3, interval=0.2)\n",
    "    pg.press('enter', presses=1, interval=0.1)\n",
    "\n",
    "    # 検索条件決定\n",
    "    pg.press('tab', presses=5, interval=0.2)\n",
    "    pg.press('enter', presses=1, interval=0.1)"
   ],
   "metadata": {
    "collapsed": false,
    "pycharm": {
     "name": "#%%\n"
    }
   }
  },
  {
   "cell_type": "code",
   "execution_count": 55,
   "outputs": [],
   "source": [
    "def to_search_period(start, end):\n",
    "    jump_to_search_box()\n",
    "\n",
    "    # 範囲指定\n",
    "    pg.press('tab', presses=4, interval=0.2)\n",
    "    pg.press('enter', presses=1, interval=0.1)\n",
    "    pg.press('up', presses=1, interval=0.2)\n",
    "    pg.press('enter', presses=1, interval=0.1)\n",
    "    # 開始日時を”YYYY-MM-DD”形式で入力\n",
    "    write_jp(start)\n",
    "\n",
    "    sleep(0.5)\n",
    "    pg.press('tab', presses=1, interval=0.1)\n",
    "\n",
    "    # 終了日時を”YYYY-MM-DD”形式で入力\n",
    "    write_jp(end)\n",
    "\n",
    "    # 検索範囲の保存ボタンを押す\n",
    "    sleep(0.5)\n",
    "    pg.hotkey('shift', 'tab')\n",
    "    pg.hotkey('shift', 'tab')\n",
    "    pg.hotkey('shift', 'tab')\n",
    "    pg.press('enter', presses=1, interval=0.1)\n",
    "\n",
    "    # 検索開始（上記保存することでコメント欄にカーソルアクティブしている）\n",
    "    sleep(0.2)\n",
    "    pg.press('tab', presses=15, interval=0.2)\n",
    "    pg.press('enter', presses=1, interval=0.1)\n",
    "\n",
    "    print(start, end)"
   ],
   "metadata": {
    "collapsed": false,
    "pycharm": {
     "name": "#%%\n"
    }
   }
  },
  {
   "cell_type": "code",
   "execution_count": 56,
   "outputs": [],
   "source": [
    "def to_search_date(search_day):\n",
    "    jump_to_search_box()\n",
    "\n",
    "    # 日時指定\n",
    "    pg.press('tab', presses=4, interval=0.2)\n",
    "    pg.press('enter', presses=1, interval=0.1)\n",
    "    pg.press('up', presses=4, interval=0.2)\n",
    "    pg.press('enter', presses=1, interval=0.1)\n",
    "\n",
    "    # 開始日時を”YYYY-MM-DD”形式で入力\n",
    "    write_jp(search_day)\n",
    "\n",
    "    # 保存ボタンを押す\n",
    "    sleep(0.5)\n",
    "    pg.hotkey('shift', 'tab')\n",
    "    pg.hotkey('shift', 'tab')\n",
    "    pg.press('enter', presses=1, interval=0.1)\n",
    "\n",
    "    # 検索開始（上記保存することでコメント欄にカーソルアクティブしている）\n",
    "    sleep(0.2)\n",
    "    pg.press('tab', presses=15, interval=0.2)\n",
    "    pg.press('enter', presses=1, interval=0.1)\n",
    "\n",
    "    print(f'検索日:{search_day}')"
   ],
   "metadata": {
    "collapsed": false,
    "pycharm": {
     "name": "#%%\n"
    }
   }
  },
  {
   "cell_type": "code",
   "execution_count": 57,
   "outputs": [
    {
     "name": "stdout",
     "output_type": "stream",
     "text": [
      "\n"
     ]
    },
    {
     "name": "stderr",
     "output_type": "stream",
     "text": [
      "[WDM] - ====== WebDriver manager ======\n",
      "[WDM] - Current google-chrome version is 103.0.5060\n",
      "[WDM] - Get LATEST chromedriver version for 103.0.5060 google-chrome\n",
      "[WDM] - Driver [C:\\Users\\sgwya\\.wdm\\drivers\\chromedriver\\win32\\103.0.5060.53\\chromedriver.exe] found in cache\n"
     ]
    },
    {
     "name": "stdout",
     "output_type": "stream",
     "text": [
      "検索日:2022-03-13\n",
      "検索結果数：19\n",
      "メッセージ数:19\n",
      "1/19:imanyuさん00:48投稿の、「がこのチャンネルの説」から始まるメッセージ取得完了\n",
      "2/19:imanyuさん00:48投稿の、「がこのチャンネルの説」から始まるメッセージ取得完了\n",
      "3/19:imanyuさん00:49投稿の、「がこのチャンネルの説」から始まるメッセージ取得完了\n",
      "4/19:imanyuさん00:50投稿の、「がこのチャンネルの説」から始まるメッセージ取得完了\n",
      "5/19:松坂さん07:00投稿の、「はじめまして\n",
      "松坂（」から始まるメッセージ取得完了\n",
      "6/19:imanyuさん10:30投稿の、「@松坂\n",
      "\n",
      "自己紹介あ」から始まるメッセージ取得完了\n",
      "7/19:imanyuさん11:45投稿の、「@here\n",
      "一時的に」から始まるメッセージ取得完了\n",
      "8/19:imanyuさん13:16投稿の、「@here\n",
      "みなさん」から始まるメッセージ取得完了\n",
      "9/19:やまもとゆうきさん17:09投稿の、「はじめまして\n",
      "４０代」から始まるメッセージ取得完了\n",
      "10/19:imanyuさん17:13投稿の、「@やまもとゆうき\n",
      "\n",
      "」から始まるメッセージ取得完了\n",
      "11/19:imanyuさん17:14投稿の、「@here\n",
      "Slac」から始まるメッセージ取得完了\n",
      "12/19:やまもとゆうきさん17:14投稿の、「こちらこそ、よろしく」から始まるメッセージ取得完了\n",
      "13/19:木下和治さん18:31投稿の、「木下和治と申します。」から始まるメッセージ取得完了\n",
      "14/19:imanyuさん18:33投稿の、「@kino\n",
      "\n",
      "木下さ」から始まるメッセージ取得完了\n",
      "15/19:木下和治さん18:44投稿の、「Udemyで、キカガ」から始まるメッセージ取得完了\n",
      "16/19:imanyuさん18:58投稿の、「@kino\n",
      "\n",
      "分かり」から始まるメッセージ取得完了\n",
      "17/19:imanyuさん22:05投稿の、「＜ぼやき＞\n",
      "私が運営」から始まるメッセージ取得完了\n",
      "18/19:笠井健太さん22:23投稿の、「皆さん初めまして。\n",
      "」から始まるメッセージ取得完了\n",
      "19/19:imanyuさん22:24投稿の、「@笠井健太\n",
      "\n",
      "笠井さ」から始まるメッセージ取得完了\n",
      "メッセージ数:19\n",
      "1/19:imanyuさん00:48投稿の、「がこのチャンネルの説」から始まるメッセージ取得完了\n",
      "2/19:imanyuさん00:48投稿の、「がこのチャンネルの説」から始まるメッセージ取得完了\n",
      "3/19:imanyuさん00:49投稿の、「がこのチャンネルの説」から始まるメッセージ取得完了\n",
      "4/19:imanyuさん00:50投稿の、「がこのチャンネルの説」から始まるメッセージ取得完了\n",
      "5/19:松坂さん07:00投稿の、「はじめまして\n",
      "松坂（」から始まるメッセージ取得完了\n",
      "6/19:imanyuさん10:30投稿の、「@松坂\n",
      "\n",
      "自己紹介あ」から始まるメッセージ取得完了\n",
      "7/19:imanyuさん11:45投稿の、「@here\n",
      "一時的に」から始まるメッセージ取得完了\n",
      "8/19:imanyuさん13:16投稿の、「@here\n",
      "みなさん」から始まるメッセージ取得完了\n",
      "9/19:やまもとゆうきさん17:09投稿の、「はじめまして\n",
      "４０代」から始まるメッセージ取得完了\n",
      "10/19:imanyuさん17:13投稿の、「@やまもとゆうき\n",
      "\n",
      "」から始まるメッセージ取得完了\n",
      "11/19:imanyuさん17:14投稿の、「@here\n",
      "Slac」から始まるメッセージ取得完了\n",
      "12/19:やまもとゆうきさん17:14投稿の、「こちらこそ、よろしく」から始まるメッセージ取得完了\n",
      "13/19:木下和治さん18:31投稿の、「木下和治と申します。」から始まるメッセージ取得完了\n",
      "14/19:imanyuさん18:33投稿の、「@kino\n",
      "\n",
      "木下さ」から始まるメッセージ取得完了\n",
      "15/19:木下和治さん18:44投稿の、「Udemyで、キカガ」から始まるメッセージ取得完了\n",
      "16/19:imanyuさん18:58投稿の、「@kino\n",
      "\n",
      "分かり」から始まるメッセージ取得完了\n",
      "17/19:imanyuさん22:05投稿の、「＜ぼやき＞\n",
      "私が運営」から始まるメッセージ取得完了\n",
      "18/19:笠井健太さん22:23投稿の、「皆さん初めまして。\n",
      "」から始まるメッセージ取得完了\n",
      "19/19:imanyuさん22:24投稿の、「@笠井健太\n",
      "\n",
      "笠井さ」から始まるメッセージ取得完了\n",
      "メッセージ数:19\n",
      "1/19:imanyuさん00:48投稿の、「がこのチャンネルの説」から始まるメッセージ取得完了\n",
      "2/19:imanyuさん00:48投稿の、「がこのチャンネルの説」から始まるメッセージ取得完了\n",
      "3/19:imanyuさん00:49投稿の、「がこのチャンネルの説」から始まるメッセージ取得完了\n",
      "4/19:imanyuさん00:50投稿の、「がこのチャンネルの説」から始まるメッセージ取得完了\n",
      "5/19:松坂さん07:00投稿の、「はじめまして\n",
      "松坂（」から始まるメッセージ取得完了\n",
      "6/19:imanyuさん10:30投稿の、「@松坂\n",
      "\n",
      "自己紹介あ」から始まるメッセージ取得完了\n",
      "7/19:imanyuさん11:45投稿の、「@here\n",
      "一時的に」から始まるメッセージ取得完了\n",
      "8/19:imanyuさん13:16投稿の、「@here\n",
      "みなさん」から始まるメッセージ取得完了\n",
      "9/19:やまもとゆうきさん17:09投稿の、「はじめまして\n",
      "４０代」から始まるメッセージ取得完了\n",
      "10/19:imanyuさん17:13投稿の、「@やまもとゆうき\n",
      "\n",
      "」から始まるメッセージ取得完了\n",
      "11/19:imanyuさん17:14投稿の、「@here\n",
      "Slac」から始まるメッセージ取得完了\n",
      "12/19:やまもとゆうきさん17:14投稿の、「こちらこそ、よろしく」から始まるメッセージ取得完了\n",
      "13/19:木下和治さん18:31投稿の、「木下和治と申します。」から始まるメッセージ取得完了\n",
      "14/19:imanyuさん18:33投稿の、「@kino\n",
      "\n",
      "木下さ」から始まるメッセージ取得完了\n",
      "15/19:木下和治さん18:44投稿の、「Udemyで、キカガ」から始まるメッセージ取得完了\n",
      "16/19:imanyuさん18:58投稿の、「@kino\n",
      "\n",
      "分かり」から始まるメッセージ取得完了\n",
      "17/19:imanyuさん22:05投稿の、「＜ぼやき＞\n",
      "私が運営」から始まるメッセージ取得完了\n",
      "18/19:笠井健太さん22:23投稿の、「皆さん初めまして。\n",
      "」から始まるメッセージ取得完了\n",
      "19/19:imanyuさん22:24投稿の、「@笠井健太\n",
      "\n",
      "笠井さ」から始まるメッセージ取得完了\n"
     ]
    },
    {
     "data": {
      "text/plain": "   検索結果数                                                 ts    投稿日   投稿時間  \\\n0     19  https://code4biz.slack.com/archives/C036NJSDVN...  3月13日  00:48   \n1     19  https://code4biz.slack.com/archives/C036NQRBV0...  3月13日  00:48   \n2     19  https://code4biz.slack.com/archives/C036A0NPU1...  3月13日  00:49   \n3     19  https://code4biz.slack.com/archives/C036ZNV6ZS...  3月13日  00:50   \n4     19                                  1647122414.551459  3月13日  07:00   \n5     19                                  1647122414.551459  3月13日  10:30   \n6     19  https://code4biz.slack.com/archives/C02HLGD5FK...  3月13日  11:45   \n7     19  https://code4biz.slack.com/archives/C036NQRBV0...  3月13日  13:16   \n8     19                                  1647158998.148279  3月13日  17:09   \n9     19                                  1647158998.148279  3月13日  17:13   \n10    19  https://code4biz.slack.com/archives/C02HLGD5FK...  3月13日  17:14   \n11    19                                  1647158998.148279  3月13日  17:14   \n12    19                                  1647163898.480849  3月13日  18:31   \n13    19                                  1647163898.480849  3月13日  18:33   \n14    19                                  1647163898.480849  3月13日  18:44   \n15    19                                  1647163898.480849  3月13日  18:58   \n16    19  https://code4biz.slack.com/archives/C036A0NPU1...  3月13日  22:05   \n17    19                                  1647177798.923359  3月13日  22:23   \n18    19                                  1647177798.923359  3月13日  22:24   \n19    19  https://code4biz.slack.com/archives/C036NJSDVN...  3月13日  00:48   \n20    19  https://code4biz.slack.com/archives/C036NQRBV0...  3月13日  00:48   \n21    19  https://code4biz.slack.com/archives/C036A0NPU1...  3月13日  00:49   \n22    19  https://code4biz.slack.com/archives/C036ZNV6ZS...  3月13日  00:50   \n23    19                                  1647122414.551459  3月13日  07:00   \n24    19                                  1647122414.551459  3月13日  10:30   \n25    19  https://code4biz.slack.com/archives/C02HLGD5FK...  3月13日  11:45   \n26    19  https://code4biz.slack.com/archives/C036NQRBV0...  3月13日  13:16   \n27    19                                  1647158998.148279  3月13日  17:09   \n28    19                                  1647158998.148279  3月13日  17:13   \n29    19  https://code4biz.slack.com/archives/C02HLGD5FK...  3月13日  17:14   \n30    19                                  1647158998.148279  3月13日  17:14   \n31    19                                  1647163898.480849  3月13日  18:31   \n32    19                                  1647163898.480849  3月13日  18:33   \n33    19                                  1647163898.480849  3月13日  18:44   \n34    19                                  1647163898.480849  3月13日  18:58   \n35    19  https://code4biz.slack.com/archives/C036A0NPU1...  3月13日  22:05   \n36    19                                  1647177798.923359  3月13日  22:23   \n37    19                                  1647177798.923359  3月13日  22:24   \n38    19  https://code4biz.slack.com/archives/C036NJSDVN...  3月13日  00:48   \n39    19  https://code4biz.slack.com/archives/C036NQRBV0...  3月13日  00:48   \n40    19  https://code4biz.slack.com/archives/C036A0NPU1...  3月13日  00:49   \n41    19  https://code4biz.slack.com/archives/C036ZNV6ZS...  3月13日  00:50   \n42    19                                  1647122414.551459  3月13日  07:00   \n43    19                                  1647122414.551459  3月13日  10:30   \n44    19  https://code4biz.slack.com/archives/C02HLGD5FK...  3月13日  11:45   \n45    19  https://code4biz.slack.com/archives/C036NQRBV0...  3月13日  13:16   \n46    19                                  1647158998.148279  3月13日  17:09   \n47    19                                  1647158998.148279  3月13日  17:13   \n48    19  https://code4biz.slack.com/archives/C02HLGD5FK...  3月13日  17:14   \n49    19                                  1647158998.148279  3月13日  17:14   \n50    19                                  1647163898.480849  3月13日  18:31   \n51    19                                  1647163898.480849  3月13日  18:33   \n52    19                                  1647163898.480849  3月13日  18:44   \n53    19                                  1647163898.480849  3月13日  18:58   \n54    19  https://code4biz.slack.com/archives/C036A0NPU1...  3月13日  22:05   \n55    19                                  1647177798.923359  3月13日  22:23   \n56    19                                  1647177798.923359  3月13日  22:24   \n\n         投稿チャンネル      投稿者                                            投稿メッセージ  \\\n0     02-いまにゅに相談   imanyu  がこのチャンネルの説明を「いまにゅに何でも相談してください！！\\n学習やキャリア相談、プライ...   \n1      01-講義更新情報   imanyu    がこのチャンネルの説明を「教材や運営に関する更新情報を共有するチャンネルです！」に設定しました   \n2   01-いまにゅのつぶやき   imanyu  がこのチャンネルの説明を「いまにゅがただぼやくための場所です。遠慮なくコメントしていただけれ...   \n3        03-自己紹介   imanyu   がこのチャンネルの説明を「Slackに入りましたら是非自己紹介をお願いします\\n」に設定しました   \n4        03-自己紹介       松坂  はじめまして\\n松坂（まつざか）と申します。\\nPython歴:独学約3ヶ月\\n（上記とは別...   \n5        03-自己紹介   imanyu  @松坂\\n\\n自己紹介ありがとうございます！\\n\\nおぉ、よくわからぬままDjangoを触っ...   \n6     01-全体アナウンス   imanyu      @here\\n一時的に皆さんを質問ルームから外しております\\n\\n追って招待いたします！！   \n7      01-講義更新情報   imanyu  @here\\nみなさん、おはようございます！\\n\\n「code4bizの進め方」パートに動画...   \n8        03-自己紹介  やまもとゆうき  はじめまして\\n４０代サラリーマンのやまもとと申します。\\n息子とPythonとラズパイを学...   \n9        03-自己紹介   imanyu  @やまもとゆうき\\n\\nおぉ、ラズパイも学習されているんですね\\n\\n息子さんとの工作にはも...   \n10    01-全体アナウンス   imanyu   @here\\nSlackに入られた方は、#03-自己紹介 チャンネルで是非自己紹介をお願いします   \n11       03-自己紹介  やまもとゆうき                                   こちらこそ、よろしくお願いします   \n12       03-自己紹介     木下和治  木下和治と申します。\\n●医学系専門書の企画・編集の仕事をしております。42歳です。\\n●プ...   \n13       03-自己紹介   imanyu  @kino\\n\\n木下さんありがとうございます！！\\n\\n数学・統計学も学び直し中なんですね...   \n14       03-自己紹介     木下和治  Udemyで、キカガク吉崎さんの「脱ブラックボックス講座：初級編・中級編」も受講しました！　...   \n15       03-自己紹介   imanyu                           @kino\\n\\n分かりやすいですよね、あの講座   \n16  01-いまにゅのつぶやき   imanyu  ＜ぼやき＞\\n私が運営していく上で、コードによる自動化・効率化した部分もライトにコンテンツ化...   \n17       03-自己紹介     笠井健太  皆さん初めまして。\\n笠井と申します。\\nPython歴：約2か月です。\\nいまにゅさんのY...   \n18       03-自己紹介   imanyu  @笠井健太\\n\\n笠井さん、早速自己紹介投稿ありがとうございます！！\\n\\n是非選択肢を色々...   \n19    02-いまにゅに相談   imanyu  がこのチャンネルの説明を「いまにゅに何でも相談してください！！\\n学習やキャリア相談、プライ...   \n20     01-講義更新情報   imanyu    がこのチャンネルの説明を「教材や運営に関する更新情報を共有するチャンネルです！」に設定しました   \n21  01-いまにゅのつぶやき   imanyu  がこのチャンネルの説明を「いまにゅがただぼやくための場所です。遠慮なくコメントしていただけれ...   \n22       03-自己紹介   imanyu   がこのチャンネルの説明を「Slackに入りましたら是非自己紹介をお願いします\\n」に設定しました   \n23       03-自己紹介       松坂  はじめまして\\n松坂（まつざか）と申します。\\nPython歴:独学約3ヶ月\\n（上記とは別...   \n24       03-自己紹介   imanyu  @松坂\\n\\n自己紹介ありがとうございます！\\n\\nおぉ、よくわからぬままDjangoを触っ...   \n25    01-全体アナウンス   imanyu      @here\\n一時的に皆さんを質問ルームから外しております\\n\\n追って招待いたします！！   \n26     01-講義更新情報   imanyu  @here\\nみなさん、おはようございます！\\n\\n「code4bizの進め方」パートに動画...   \n27       03-自己紹介  やまもとゆうき  はじめまして\\n４０代サラリーマンのやまもとと申します。\\n息子とPythonとラズパイを学...   \n28       03-自己紹介   imanyu  @やまもとゆうき\\n\\nおぉ、ラズパイも学習されているんですね\\n\\n息子さんとの工作にはも...   \n29    01-全体アナウンス   imanyu   @here\\nSlackに入られた方は、#03-自己紹介 チャンネルで是非自己紹介をお願いします   \n30       03-自己紹介  やまもとゆうき                                   こちらこそ、よろしくお願いします   \n31       03-自己紹介     木下和治  木下和治と申します。\\n●医学系専門書の企画・編集の仕事をしております。42歳です。\\n●プ...   \n32       03-自己紹介   imanyu  @kino\\n\\n木下さんありがとうございます！！\\n\\n数学・統計学も学び直し中なんですね...   \n33       03-自己紹介     木下和治  Udemyで、キカガク吉崎さんの「脱ブラックボックス講座：初級編・中級編」も受講しました！　...   \n34       03-自己紹介   imanyu                           @kino\\n\\n分かりやすいですよね、あの講座   \n35  01-いまにゅのつぶやき   imanyu  ＜ぼやき＞\\n私が運営していく上で、コードによる自動化・効率化した部分もライトにコンテンツ化...   \n36       03-自己紹介     笠井健太  皆さん初めまして。\\n笠井と申します。\\nPython歴：約2か月です。\\nいまにゅさんのY...   \n37       03-自己紹介   imanyu  @笠井健太\\n\\n笠井さん、早速自己紹介投稿ありがとうございます！！\\n\\n是非選択肢を色々...   \n38    02-いまにゅに相談   imanyu  がこのチャンネルの説明を「いまにゅに何でも相談してください！！\\n学習やキャリア相談、プライ...   \n39     01-講義更新情報   imanyu    がこのチャンネルの説明を「教材や運営に関する更新情報を共有するチャンネルです！」に設定しました   \n40  01-いまにゅのつぶやき   imanyu  がこのチャンネルの説明を「いまにゅがただぼやくための場所です。遠慮なくコメントしていただけれ...   \n41       03-自己紹介   imanyu   がこのチャンネルの説明を「Slackに入りましたら是非自己紹介をお願いします\\n」に設定しました   \n42       03-自己紹介       松坂  はじめまして\\n松坂（まつざか）と申します。\\nPython歴:独学約3ヶ月\\n（上記とは別...   \n43       03-自己紹介   imanyu  @松坂\\n\\n自己紹介ありがとうございます！\\n\\nおぉ、よくわからぬままDjangoを触っ...   \n44    01-全体アナウンス   imanyu      @here\\n一時的に皆さんを質問ルームから外しております\\n\\n追って招待いたします！！   \n45     01-講義更新情報   imanyu  @here\\nみなさん、おはようございます！\\n\\n「code4bizの進め方」パートに動画...   \n46       03-自己紹介  やまもとゆうき  はじめまして\\n４０代サラリーマンのやまもとと申します。\\n息子とPythonとラズパイを学...   \n47       03-自己紹介   imanyu  @やまもとゆうき\\n\\nおぉ、ラズパイも学習されているんですね\\n\\n息子さんとの工作にはも...   \n48    01-全体アナウンス   imanyu   @here\\nSlackに入られた方は、#03-自己紹介 チャンネルで是非自己紹介をお願いします   \n49       03-自己紹介  やまもとゆうき                                   こちらこそ、よろしくお願いします   \n50       03-自己紹介     木下和治  木下和治と申します。\\n●医学系専門書の企画・編集の仕事をしております。42歳です。\\n●プ...   \n51       03-自己紹介   imanyu  @kino\\n\\n木下さんありがとうございます！！\\n\\n数学・統計学も学び直し中なんですね...   \n52       03-自己紹介     木下和治  Udemyで、キカガク吉崎さんの「脱ブラックボックス講座：初級編・中級編」も受講しました！　...   \n53       03-自己紹介   imanyu                           @kino\\n\\n分かりやすいですよね、あの講座   \n54  01-いまにゅのつぶやき   imanyu  ＜ぼやき＞\\n私が運営していく上で、コードによる自動化・効率化した部分もライトにコンテンツ化...   \n55       03-自己紹介     笠井健太  皆さん初めまして。\\n笠井と申します。\\nPython歴：約2か月です。\\nいまにゅさんのY...   \n56       03-自己紹介   imanyu  @笠井健太\\n\\n笠井さん、早速自己紹介投稿ありがとうございます！！\\n\\n是非選択肢を色々...   \n\n                                                  リンク  \n0   <a target=\"_blank\" href=\"https://code4biz.slac...  \n1   <a target=\"_blank\" href=\"https://code4biz.slac...  \n2   <a target=\"_blank\" href=\"https://code4biz.slac...  \n3   <a target=\"_blank\" href=\"https://code4biz.slac...  \n4   <a target=\"_blank\" href=\"https://code4biz.slac...  \n5   <a target=\"_blank\" href=\"https://code4biz.slac...  \n6   <a target=\"_blank\" href=\"https://code4biz.slac...  \n7   <a target=\"_blank\" href=\"https://code4biz.slac...  \n8   <a target=\"_blank\" href=\"https://code4biz.slac...  \n9   <a target=\"_blank\" href=\"https://code4biz.slac...  \n10  <a target=\"_blank\" href=\"https://code4biz.slac...  \n11  <a target=\"_blank\" href=\"https://code4biz.slac...  \n12  <a target=\"_blank\" href=\"https://code4biz.slac...  \n13  <a target=\"_blank\" href=\"https://code4biz.slac...  \n14  <a target=\"_blank\" href=\"https://code4biz.slac...  \n15  <a target=\"_blank\" href=\"https://code4biz.slac...  \n16  <a target=\"_blank\" href=\"https://code4biz.slac...  \n17  <a target=\"_blank\" href=\"https://code4biz.slac...  \n18  <a target=\"_blank\" href=\"https://code4biz.slac...  \n19  <a target=\"_blank\" href=\"https://code4biz.slac...  \n20  <a target=\"_blank\" href=\"https://code4biz.slac...  \n21  <a target=\"_blank\" href=\"https://code4biz.slac...  \n22  <a target=\"_blank\" href=\"https://code4biz.slac...  \n23  <a target=\"_blank\" href=\"https://code4biz.slac...  \n24  <a target=\"_blank\" href=\"https://code4biz.slac...  \n25  <a target=\"_blank\" href=\"https://code4biz.slac...  \n26  <a target=\"_blank\" href=\"https://code4biz.slac...  \n27  <a target=\"_blank\" href=\"https://code4biz.slac...  \n28  <a target=\"_blank\" href=\"https://code4biz.slac...  \n29  <a target=\"_blank\" href=\"https://code4biz.slac...  \n30  <a target=\"_blank\" href=\"https://code4biz.slac...  \n31  <a target=\"_blank\" href=\"https://code4biz.slac...  \n32  <a target=\"_blank\" href=\"https://code4biz.slac...  \n33  <a target=\"_blank\" href=\"https://code4biz.slac...  \n34  <a target=\"_blank\" href=\"https://code4biz.slac...  \n35  <a target=\"_blank\" href=\"https://code4biz.slac...  \n36  <a target=\"_blank\" href=\"https://code4biz.slac...  \n37  <a target=\"_blank\" href=\"https://code4biz.slac...  \n38  <a target=\"_blank\" href=\"https://code4biz.slac...  \n39  <a target=\"_blank\" href=\"https://code4biz.slac...  \n40  <a target=\"_blank\" href=\"https://code4biz.slac...  \n41  <a target=\"_blank\" href=\"https://code4biz.slac...  \n42  <a target=\"_blank\" href=\"https://code4biz.slac...  \n43  <a target=\"_blank\" href=\"https://code4biz.slac...  \n44  <a target=\"_blank\" href=\"https://code4biz.slac...  \n45  <a target=\"_blank\" href=\"https://code4biz.slac...  \n46  <a target=\"_blank\" href=\"https://code4biz.slac...  \n47  <a target=\"_blank\" href=\"https://code4biz.slac...  \n48  <a target=\"_blank\" href=\"https://code4biz.slac...  \n49  <a target=\"_blank\" href=\"https://code4biz.slac...  \n50  <a target=\"_blank\" href=\"https://code4biz.slac...  \n51  <a target=\"_blank\" href=\"https://code4biz.slac...  \n52  <a target=\"_blank\" href=\"https://code4biz.slac...  \n53  <a target=\"_blank\" href=\"https://code4biz.slac...  \n54  <a target=\"_blank\" href=\"https://code4biz.slac...  \n55  <a target=\"_blank\" href=\"https://code4biz.slac...  \n56  <a target=\"_blank\" href=\"https://code4biz.slac...  ",
      "text/html": "<div>\n<style scoped>\n    .dataframe tbody tr th:only-of-type {\n        vertical-align: middle;\n    }\n\n    .dataframe tbody tr th {\n        vertical-align: top;\n    }\n\n    .dataframe thead th {\n        text-align: right;\n    }\n</style>\n<table border=\"1\" class=\"dataframe\">\n  <thead>\n    <tr style=\"text-align: right;\">\n      <th></th>\n      <th>検索結果数</th>\n      <th>ts</th>\n      <th>投稿日</th>\n      <th>投稿時間</th>\n      <th>投稿チャンネル</th>\n      <th>投稿者</th>\n      <th>投稿メッセージ</th>\n      <th>リンク</th>\n    </tr>\n  </thead>\n  <tbody>\n    <tr>\n      <th>0</th>\n      <td>19</td>\n      <td>https://code4biz.slack.com/archives/C036NJSDVN...</td>\n      <td>3月13日</td>\n      <td>00:48</td>\n      <td>02-いまにゅに相談</td>\n      <td>imanyu</td>\n      <td>がこのチャンネルの説明を「いまにゅに何でも相談してください！！\\n学習やキャリア相談、プライ...</td>\n      <td>&lt;a target=\"_blank\" href=\"https://code4biz.slac...</td>\n    </tr>\n    <tr>\n      <th>1</th>\n      <td>19</td>\n      <td>https://code4biz.slack.com/archives/C036NQRBV0...</td>\n      <td>3月13日</td>\n      <td>00:48</td>\n      <td>01-講義更新情報</td>\n      <td>imanyu</td>\n      <td>がこのチャンネルの説明を「教材や運営に関する更新情報を共有するチャンネルです！」に設定しました</td>\n      <td>&lt;a target=\"_blank\" href=\"https://code4biz.slac...</td>\n    </tr>\n    <tr>\n      <th>2</th>\n      <td>19</td>\n      <td>https://code4biz.slack.com/archives/C036A0NPU1...</td>\n      <td>3月13日</td>\n      <td>00:49</td>\n      <td>01-いまにゅのつぶやき</td>\n      <td>imanyu</td>\n      <td>がこのチャンネルの説明を「いまにゅがただぼやくための場所です。遠慮なくコメントしていただけれ...</td>\n      <td>&lt;a target=\"_blank\" href=\"https://code4biz.slac...</td>\n    </tr>\n    <tr>\n      <th>3</th>\n      <td>19</td>\n      <td>https://code4biz.slack.com/archives/C036ZNV6ZS...</td>\n      <td>3月13日</td>\n      <td>00:50</td>\n      <td>03-自己紹介</td>\n      <td>imanyu</td>\n      <td>がこのチャンネルの説明を「Slackに入りましたら是非自己紹介をお願いします\\n」に設定しました</td>\n      <td>&lt;a target=\"_blank\" href=\"https://code4biz.slac...</td>\n    </tr>\n    <tr>\n      <th>4</th>\n      <td>19</td>\n      <td>1647122414.551459</td>\n      <td>3月13日</td>\n      <td>07:00</td>\n      <td>03-自己紹介</td>\n      <td>松坂</td>\n      <td>はじめまして\\n松坂（まつざか）と申します。\\nPython歴:独学約3ヶ月\\n（上記とは別...</td>\n      <td>&lt;a target=\"_blank\" href=\"https://code4biz.slac...</td>\n    </tr>\n    <tr>\n      <th>5</th>\n      <td>19</td>\n      <td>1647122414.551459</td>\n      <td>3月13日</td>\n      <td>10:30</td>\n      <td>03-自己紹介</td>\n      <td>imanyu</td>\n      <td>@松坂\\n\\n自己紹介ありがとうございます！\\n\\nおぉ、よくわからぬままDjangoを触っ...</td>\n      <td>&lt;a target=\"_blank\" href=\"https://code4biz.slac...</td>\n    </tr>\n    <tr>\n      <th>6</th>\n      <td>19</td>\n      <td>https://code4biz.slack.com/archives/C02HLGD5FK...</td>\n      <td>3月13日</td>\n      <td>11:45</td>\n      <td>01-全体アナウンス</td>\n      <td>imanyu</td>\n      <td>@here\\n一時的に皆さんを質問ルームから外しております\\n\\n追って招待いたします！！</td>\n      <td>&lt;a target=\"_blank\" href=\"https://code4biz.slac...</td>\n    </tr>\n    <tr>\n      <th>7</th>\n      <td>19</td>\n      <td>https://code4biz.slack.com/archives/C036NQRBV0...</td>\n      <td>3月13日</td>\n      <td>13:16</td>\n      <td>01-講義更新情報</td>\n      <td>imanyu</td>\n      <td>@here\\nみなさん、おはようございます！\\n\\n「code4bizの進め方」パートに動画...</td>\n      <td>&lt;a target=\"_blank\" href=\"https://code4biz.slac...</td>\n    </tr>\n    <tr>\n      <th>8</th>\n      <td>19</td>\n      <td>1647158998.148279</td>\n      <td>3月13日</td>\n      <td>17:09</td>\n      <td>03-自己紹介</td>\n      <td>やまもとゆうき</td>\n      <td>はじめまして\\n４０代サラリーマンのやまもとと申します。\\n息子とPythonとラズパイを学...</td>\n      <td>&lt;a target=\"_blank\" href=\"https://code4biz.slac...</td>\n    </tr>\n    <tr>\n      <th>9</th>\n      <td>19</td>\n      <td>1647158998.148279</td>\n      <td>3月13日</td>\n      <td>17:13</td>\n      <td>03-自己紹介</td>\n      <td>imanyu</td>\n      <td>@やまもとゆうき\\n\\nおぉ、ラズパイも学習されているんですね\\n\\n息子さんとの工作にはも...</td>\n      <td>&lt;a target=\"_blank\" href=\"https://code4biz.slac...</td>\n    </tr>\n    <tr>\n      <th>10</th>\n      <td>19</td>\n      <td>https://code4biz.slack.com/archives/C02HLGD5FK...</td>\n      <td>3月13日</td>\n      <td>17:14</td>\n      <td>01-全体アナウンス</td>\n      <td>imanyu</td>\n      <td>@here\\nSlackに入られた方は、#03-自己紹介 チャンネルで是非自己紹介をお願いします</td>\n      <td>&lt;a target=\"_blank\" href=\"https://code4biz.slac...</td>\n    </tr>\n    <tr>\n      <th>11</th>\n      <td>19</td>\n      <td>1647158998.148279</td>\n      <td>3月13日</td>\n      <td>17:14</td>\n      <td>03-自己紹介</td>\n      <td>やまもとゆうき</td>\n      <td>こちらこそ、よろしくお願いします</td>\n      <td>&lt;a target=\"_blank\" href=\"https://code4biz.slac...</td>\n    </tr>\n    <tr>\n      <th>12</th>\n      <td>19</td>\n      <td>1647163898.480849</td>\n      <td>3月13日</td>\n      <td>18:31</td>\n      <td>03-自己紹介</td>\n      <td>木下和治</td>\n      <td>木下和治と申します。\\n●医学系専門書の企画・編集の仕事をしております。42歳です。\\n●プ...</td>\n      <td>&lt;a target=\"_blank\" href=\"https://code4biz.slac...</td>\n    </tr>\n    <tr>\n      <th>13</th>\n      <td>19</td>\n      <td>1647163898.480849</td>\n      <td>3月13日</td>\n      <td>18:33</td>\n      <td>03-自己紹介</td>\n      <td>imanyu</td>\n      <td>@kino\\n\\n木下さんありがとうございます！！\\n\\n数学・統計学も学び直し中なんですね...</td>\n      <td>&lt;a target=\"_blank\" href=\"https://code4biz.slac...</td>\n    </tr>\n    <tr>\n      <th>14</th>\n      <td>19</td>\n      <td>1647163898.480849</td>\n      <td>3月13日</td>\n      <td>18:44</td>\n      <td>03-自己紹介</td>\n      <td>木下和治</td>\n      <td>Udemyで、キカガク吉崎さんの「脱ブラックボックス講座：初級編・中級編」も受講しました！　...</td>\n      <td>&lt;a target=\"_blank\" href=\"https://code4biz.slac...</td>\n    </tr>\n    <tr>\n      <th>15</th>\n      <td>19</td>\n      <td>1647163898.480849</td>\n      <td>3月13日</td>\n      <td>18:58</td>\n      <td>03-自己紹介</td>\n      <td>imanyu</td>\n      <td>@kino\\n\\n分かりやすいですよね、あの講座</td>\n      <td>&lt;a target=\"_blank\" href=\"https://code4biz.slac...</td>\n    </tr>\n    <tr>\n      <th>16</th>\n      <td>19</td>\n      <td>https://code4biz.slack.com/archives/C036A0NPU1...</td>\n      <td>3月13日</td>\n      <td>22:05</td>\n      <td>01-いまにゅのつぶやき</td>\n      <td>imanyu</td>\n      <td>＜ぼやき＞\\n私が運営していく上で、コードによる自動化・効率化した部分もライトにコンテンツ化...</td>\n      <td>&lt;a target=\"_blank\" href=\"https://code4biz.slac...</td>\n    </tr>\n    <tr>\n      <th>17</th>\n      <td>19</td>\n      <td>1647177798.923359</td>\n      <td>3月13日</td>\n      <td>22:23</td>\n      <td>03-自己紹介</td>\n      <td>笠井健太</td>\n      <td>皆さん初めまして。\\n笠井と申します。\\nPython歴：約2か月です。\\nいまにゅさんのY...</td>\n      <td>&lt;a target=\"_blank\" href=\"https://code4biz.slac...</td>\n    </tr>\n    <tr>\n      <th>18</th>\n      <td>19</td>\n      <td>1647177798.923359</td>\n      <td>3月13日</td>\n      <td>22:24</td>\n      <td>03-自己紹介</td>\n      <td>imanyu</td>\n      <td>@笠井健太\\n\\n笠井さん、早速自己紹介投稿ありがとうございます！！\\n\\n是非選択肢を色々...</td>\n      <td>&lt;a target=\"_blank\" href=\"https://code4biz.slac...</td>\n    </tr>\n    <tr>\n      <th>19</th>\n      <td>19</td>\n      <td>https://code4biz.slack.com/archives/C036NJSDVN...</td>\n      <td>3月13日</td>\n      <td>00:48</td>\n      <td>02-いまにゅに相談</td>\n      <td>imanyu</td>\n      <td>がこのチャンネルの説明を「いまにゅに何でも相談してください！！\\n学習やキャリア相談、プライ...</td>\n      <td>&lt;a target=\"_blank\" href=\"https://code4biz.slac...</td>\n    </tr>\n    <tr>\n      <th>20</th>\n      <td>19</td>\n      <td>https://code4biz.slack.com/archives/C036NQRBV0...</td>\n      <td>3月13日</td>\n      <td>00:48</td>\n      <td>01-講義更新情報</td>\n      <td>imanyu</td>\n      <td>がこのチャンネルの説明を「教材や運営に関する更新情報を共有するチャンネルです！」に設定しました</td>\n      <td>&lt;a target=\"_blank\" href=\"https://code4biz.slac...</td>\n    </tr>\n    <tr>\n      <th>21</th>\n      <td>19</td>\n      <td>https://code4biz.slack.com/archives/C036A0NPU1...</td>\n      <td>3月13日</td>\n      <td>00:49</td>\n      <td>01-いまにゅのつぶやき</td>\n      <td>imanyu</td>\n      <td>がこのチャンネルの説明を「いまにゅがただぼやくための場所です。遠慮なくコメントしていただけれ...</td>\n      <td>&lt;a target=\"_blank\" href=\"https://code4biz.slac...</td>\n    </tr>\n    <tr>\n      <th>22</th>\n      <td>19</td>\n      <td>https://code4biz.slack.com/archives/C036ZNV6ZS...</td>\n      <td>3月13日</td>\n      <td>00:50</td>\n      <td>03-自己紹介</td>\n      <td>imanyu</td>\n      <td>がこのチャンネルの説明を「Slackに入りましたら是非自己紹介をお願いします\\n」に設定しました</td>\n      <td>&lt;a target=\"_blank\" href=\"https://code4biz.slac...</td>\n    </tr>\n    <tr>\n      <th>23</th>\n      <td>19</td>\n      <td>1647122414.551459</td>\n      <td>3月13日</td>\n      <td>07:00</td>\n      <td>03-自己紹介</td>\n      <td>松坂</td>\n      <td>はじめまして\\n松坂（まつざか）と申します。\\nPython歴:独学約3ヶ月\\n（上記とは別...</td>\n      <td>&lt;a target=\"_blank\" href=\"https://code4biz.slac...</td>\n    </tr>\n    <tr>\n      <th>24</th>\n      <td>19</td>\n      <td>1647122414.551459</td>\n      <td>3月13日</td>\n      <td>10:30</td>\n      <td>03-自己紹介</td>\n      <td>imanyu</td>\n      <td>@松坂\\n\\n自己紹介ありがとうございます！\\n\\nおぉ、よくわからぬままDjangoを触っ...</td>\n      <td>&lt;a target=\"_blank\" href=\"https://code4biz.slac...</td>\n    </tr>\n    <tr>\n      <th>25</th>\n      <td>19</td>\n      <td>https://code4biz.slack.com/archives/C02HLGD5FK...</td>\n      <td>3月13日</td>\n      <td>11:45</td>\n      <td>01-全体アナウンス</td>\n      <td>imanyu</td>\n      <td>@here\\n一時的に皆さんを質問ルームから外しております\\n\\n追って招待いたします！！</td>\n      <td>&lt;a target=\"_blank\" href=\"https://code4biz.slac...</td>\n    </tr>\n    <tr>\n      <th>26</th>\n      <td>19</td>\n      <td>https://code4biz.slack.com/archives/C036NQRBV0...</td>\n      <td>3月13日</td>\n      <td>13:16</td>\n      <td>01-講義更新情報</td>\n      <td>imanyu</td>\n      <td>@here\\nみなさん、おはようございます！\\n\\n「code4bizの進め方」パートに動画...</td>\n      <td>&lt;a target=\"_blank\" href=\"https://code4biz.slac...</td>\n    </tr>\n    <tr>\n      <th>27</th>\n      <td>19</td>\n      <td>1647158998.148279</td>\n      <td>3月13日</td>\n      <td>17:09</td>\n      <td>03-自己紹介</td>\n      <td>やまもとゆうき</td>\n      <td>はじめまして\\n４０代サラリーマンのやまもとと申します。\\n息子とPythonとラズパイを学...</td>\n      <td>&lt;a target=\"_blank\" href=\"https://code4biz.slac...</td>\n    </tr>\n    <tr>\n      <th>28</th>\n      <td>19</td>\n      <td>1647158998.148279</td>\n      <td>3月13日</td>\n      <td>17:13</td>\n      <td>03-自己紹介</td>\n      <td>imanyu</td>\n      <td>@やまもとゆうき\\n\\nおぉ、ラズパイも学習されているんですね\\n\\n息子さんとの工作にはも...</td>\n      <td>&lt;a target=\"_blank\" href=\"https://code4biz.slac...</td>\n    </tr>\n    <tr>\n      <th>29</th>\n      <td>19</td>\n      <td>https://code4biz.slack.com/archives/C02HLGD5FK...</td>\n      <td>3月13日</td>\n      <td>17:14</td>\n      <td>01-全体アナウンス</td>\n      <td>imanyu</td>\n      <td>@here\\nSlackに入られた方は、#03-自己紹介 チャンネルで是非自己紹介をお願いします</td>\n      <td>&lt;a target=\"_blank\" href=\"https://code4biz.slac...</td>\n    </tr>\n    <tr>\n      <th>30</th>\n      <td>19</td>\n      <td>1647158998.148279</td>\n      <td>3月13日</td>\n      <td>17:14</td>\n      <td>03-自己紹介</td>\n      <td>やまもとゆうき</td>\n      <td>こちらこそ、よろしくお願いします</td>\n      <td>&lt;a target=\"_blank\" href=\"https://code4biz.slac...</td>\n    </tr>\n    <tr>\n      <th>31</th>\n      <td>19</td>\n      <td>1647163898.480849</td>\n      <td>3月13日</td>\n      <td>18:31</td>\n      <td>03-自己紹介</td>\n      <td>木下和治</td>\n      <td>木下和治と申します。\\n●医学系専門書の企画・編集の仕事をしております。42歳です。\\n●プ...</td>\n      <td>&lt;a target=\"_blank\" href=\"https://code4biz.slac...</td>\n    </tr>\n    <tr>\n      <th>32</th>\n      <td>19</td>\n      <td>1647163898.480849</td>\n      <td>3月13日</td>\n      <td>18:33</td>\n      <td>03-自己紹介</td>\n      <td>imanyu</td>\n      <td>@kino\\n\\n木下さんありがとうございます！！\\n\\n数学・統計学も学び直し中なんですね...</td>\n      <td>&lt;a target=\"_blank\" href=\"https://code4biz.slac...</td>\n    </tr>\n    <tr>\n      <th>33</th>\n      <td>19</td>\n      <td>1647163898.480849</td>\n      <td>3月13日</td>\n      <td>18:44</td>\n      <td>03-自己紹介</td>\n      <td>木下和治</td>\n      <td>Udemyで、キカガク吉崎さんの「脱ブラックボックス講座：初級編・中級編」も受講しました！　...</td>\n      <td>&lt;a target=\"_blank\" href=\"https://code4biz.slac...</td>\n    </tr>\n    <tr>\n      <th>34</th>\n      <td>19</td>\n      <td>1647163898.480849</td>\n      <td>3月13日</td>\n      <td>18:58</td>\n      <td>03-自己紹介</td>\n      <td>imanyu</td>\n      <td>@kino\\n\\n分かりやすいですよね、あの講座</td>\n      <td>&lt;a target=\"_blank\" href=\"https://code4biz.slac...</td>\n    </tr>\n    <tr>\n      <th>35</th>\n      <td>19</td>\n      <td>https://code4biz.slack.com/archives/C036A0NPU1...</td>\n      <td>3月13日</td>\n      <td>22:05</td>\n      <td>01-いまにゅのつぶやき</td>\n      <td>imanyu</td>\n      <td>＜ぼやき＞\\n私が運営していく上で、コードによる自動化・効率化した部分もライトにコンテンツ化...</td>\n      <td>&lt;a target=\"_blank\" href=\"https://code4biz.slac...</td>\n    </tr>\n    <tr>\n      <th>36</th>\n      <td>19</td>\n      <td>1647177798.923359</td>\n      <td>3月13日</td>\n      <td>22:23</td>\n      <td>03-自己紹介</td>\n      <td>笠井健太</td>\n      <td>皆さん初めまして。\\n笠井と申します。\\nPython歴：約2か月です。\\nいまにゅさんのY...</td>\n      <td>&lt;a target=\"_blank\" href=\"https://code4biz.slac...</td>\n    </tr>\n    <tr>\n      <th>37</th>\n      <td>19</td>\n      <td>1647177798.923359</td>\n      <td>3月13日</td>\n      <td>22:24</td>\n      <td>03-自己紹介</td>\n      <td>imanyu</td>\n      <td>@笠井健太\\n\\n笠井さん、早速自己紹介投稿ありがとうございます！！\\n\\n是非選択肢を色々...</td>\n      <td>&lt;a target=\"_blank\" href=\"https://code4biz.slac...</td>\n    </tr>\n    <tr>\n      <th>38</th>\n      <td>19</td>\n      <td>https://code4biz.slack.com/archives/C036NJSDVN...</td>\n      <td>3月13日</td>\n      <td>00:48</td>\n      <td>02-いまにゅに相談</td>\n      <td>imanyu</td>\n      <td>がこのチャンネルの説明を「いまにゅに何でも相談してください！！\\n学習やキャリア相談、プライ...</td>\n      <td>&lt;a target=\"_blank\" href=\"https://code4biz.slac...</td>\n    </tr>\n    <tr>\n      <th>39</th>\n      <td>19</td>\n      <td>https://code4biz.slack.com/archives/C036NQRBV0...</td>\n      <td>3月13日</td>\n      <td>00:48</td>\n      <td>01-講義更新情報</td>\n      <td>imanyu</td>\n      <td>がこのチャンネルの説明を「教材や運営に関する更新情報を共有するチャンネルです！」に設定しました</td>\n      <td>&lt;a target=\"_blank\" href=\"https://code4biz.slac...</td>\n    </tr>\n    <tr>\n      <th>40</th>\n      <td>19</td>\n      <td>https://code4biz.slack.com/archives/C036A0NPU1...</td>\n      <td>3月13日</td>\n      <td>00:49</td>\n      <td>01-いまにゅのつぶやき</td>\n      <td>imanyu</td>\n      <td>がこのチャンネルの説明を「いまにゅがただぼやくための場所です。遠慮なくコメントしていただけれ...</td>\n      <td>&lt;a target=\"_blank\" href=\"https://code4biz.slac...</td>\n    </tr>\n    <tr>\n      <th>41</th>\n      <td>19</td>\n      <td>https://code4biz.slack.com/archives/C036ZNV6ZS...</td>\n      <td>3月13日</td>\n      <td>00:50</td>\n      <td>03-自己紹介</td>\n      <td>imanyu</td>\n      <td>がこのチャンネルの説明を「Slackに入りましたら是非自己紹介をお願いします\\n」に設定しました</td>\n      <td>&lt;a target=\"_blank\" href=\"https://code4biz.slac...</td>\n    </tr>\n    <tr>\n      <th>42</th>\n      <td>19</td>\n      <td>1647122414.551459</td>\n      <td>3月13日</td>\n      <td>07:00</td>\n      <td>03-自己紹介</td>\n      <td>松坂</td>\n      <td>はじめまして\\n松坂（まつざか）と申します。\\nPython歴:独学約3ヶ月\\n（上記とは別...</td>\n      <td>&lt;a target=\"_blank\" href=\"https://code4biz.slac...</td>\n    </tr>\n    <tr>\n      <th>43</th>\n      <td>19</td>\n      <td>1647122414.551459</td>\n      <td>3月13日</td>\n      <td>10:30</td>\n      <td>03-自己紹介</td>\n      <td>imanyu</td>\n      <td>@松坂\\n\\n自己紹介ありがとうございます！\\n\\nおぉ、よくわからぬままDjangoを触っ...</td>\n      <td>&lt;a target=\"_blank\" href=\"https://code4biz.slac...</td>\n    </tr>\n    <tr>\n      <th>44</th>\n      <td>19</td>\n      <td>https://code4biz.slack.com/archives/C02HLGD5FK...</td>\n      <td>3月13日</td>\n      <td>11:45</td>\n      <td>01-全体アナウンス</td>\n      <td>imanyu</td>\n      <td>@here\\n一時的に皆さんを質問ルームから外しております\\n\\n追って招待いたします！！</td>\n      <td>&lt;a target=\"_blank\" href=\"https://code4biz.slac...</td>\n    </tr>\n    <tr>\n      <th>45</th>\n      <td>19</td>\n      <td>https://code4biz.slack.com/archives/C036NQRBV0...</td>\n      <td>3月13日</td>\n      <td>13:16</td>\n      <td>01-講義更新情報</td>\n      <td>imanyu</td>\n      <td>@here\\nみなさん、おはようございます！\\n\\n「code4bizの進め方」パートに動画...</td>\n      <td>&lt;a target=\"_blank\" href=\"https://code4biz.slac...</td>\n    </tr>\n    <tr>\n      <th>46</th>\n      <td>19</td>\n      <td>1647158998.148279</td>\n      <td>3月13日</td>\n      <td>17:09</td>\n      <td>03-自己紹介</td>\n      <td>やまもとゆうき</td>\n      <td>はじめまして\\n４０代サラリーマンのやまもとと申します。\\n息子とPythonとラズパイを学...</td>\n      <td>&lt;a target=\"_blank\" href=\"https://code4biz.slac...</td>\n    </tr>\n    <tr>\n      <th>47</th>\n      <td>19</td>\n      <td>1647158998.148279</td>\n      <td>3月13日</td>\n      <td>17:13</td>\n      <td>03-自己紹介</td>\n      <td>imanyu</td>\n      <td>@やまもとゆうき\\n\\nおぉ、ラズパイも学習されているんですね\\n\\n息子さんとの工作にはも...</td>\n      <td>&lt;a target=\"_blank\" href=\"https://code4biz.slac...</td>\n    </tr>\n    <tr>\n      <th>48</th>\n      <td>19</td>\n      <td>https://code4biz.slack.com/archives/C02HLGD5FK...</td>\n      <td>3月13日</td>\n      <td>17:14</td>\n      <td>01-全体アナウンス</td>\n      <td>imanyu</td>\n      <td>@here\\nSlackに入られた方は、#03-自己紹介 チャンネルで是非自己紹介をお願いします</td>\n      <td>&lt;a target=\"_blank\" href=\"https://code4biz.slac...</td>\n    </tr>\n    <tr>\n      <th>49</th>\n      <td>19</td>\n      <td>1647158998.148279</td>\n      <td>3月13日</td>\n      <td>17:14</td>\n      <td>03-自己紹介</td>\n      <td>やまもとゆうき</td>\n      <td>こちらこそ、よろしくお願いします</td>\n      <td>&lt;a target=\"_blank\" href=\"https://code4biz.slac...</td>\n    </tr>\n    <tr>\n      <th>50</th>\n      <td>19</td>\n      <td>1647163898.480849</td>\n      <td>3月13日</td>\n      <td>18:31</td>\n      <td>03-自己紹介</td>\n      <td>木下和治</td>\n      <td>木下和治と申します。\\n●医学系専門書の企画・編集の仕事をしております。42歳です。\\n●プ...</td>\n      <td>&lt;a target=\"_blank\" href=\"https://code4biz.slac...</td>\n    </tr>\n    <tr>\n      <th>51</th>\n      <td>19</td>\n      <td>1647163898.480849</td>\n      <td>3月13日</td>\n      <td>18:33</td>\n      <td>03-自己紹介</td>\n      <td>imanyu</td>\n      <td>@kino\\n\\n木下さんありがとうございます！！\\n\\n数学・統計学も学び直し中なんですね...</td>\n      <td>&lt;a target=\"_blank\" href=\"https://code4biz.slac...</td>\n    </tr>\n    <tr>\n      <th>52</th>\n      <td>19</td>\n      <td>1647163898.480849</td>\n      <td>3月13日</td>\n      <td>18:44</td>\n      <td>03-自己紹介</td>\n      <td>木下和治</td>\n      <td>Udemyで、キカガク吉崎さんの「脱ブラックボックス講座：初級編・中級編」も受講しました！　...</td>\n      <td>&lt;a target=\"_blank\" href=\"https://code4biz.slac...</td>\n    </tr>\n    <tr>\n      <th>53</th>\n      <td>19</td>\n      <td>1647163898.480849</td>\n      <td>3月13日</td>\n      <td>18:58</td>\n      <td>03-自己紹介</td>\n      <td>imanyu</td>\n      <td>@kino\\n\\n分かりやすいですよね、あの講座</td>\n      <td>&lt;a target=\"_blank\" href=\"https://code4biz.slac...</td>\n    </tr>\n    <tr>\n      <th>54</th>\n      <td>19</td>\n      <td>https://code4biz.slack.com/archives/C036A0NPU1...</td>\n      <td>3月13日</td>\n      <td>22:05</td>\n      <td>01-いまにゅのつぶやき</td>\n      <td>imanyu</td>\n      <td>＜ぼやき＞\\n私が運営していく上で、コードによる自動化・効率化した部分もライトにコンテンツ化...</td>\n      <td>&lt;a target=\"_blank\" href=\"https://code4biz.slac...</td>\n    </tr>\n    <tr>\n      <th>55</th>\n      <td>19</td>\n      <td>1647177798.923359</td>\n      <td>3月13日</td>\n      <td>22:23</td>\n      <td>03-自己紹介</td>\n      <td>笠井健太</td>\n      <td>皆さん初めまして。\\n笠井と申します。\\nPython歴：約2か月です。\\nいまにゅさんのY...</td>\n      <td>&lt;a target=\"_blank\" href=\"https://code4biz.slac...</td>\n    </tr>\n    <tr>\n      <th>56</th>\n      <td>19</td>\n      <td>1647177798.923359</td>\n      <td>3月13日</td>\n      <td>22:24</td>\n      <td>03-自己紹介</td>\n      <td>imanyu</td>\n      <td>@笠井健太\\n\\n笠井さん、早速自己紹介投稿ありがとうございます！！\\n\\n是非選択肢を色々...</td>\n      <td>&lt;a target=\"_blank\" href=\"https://code4biz.slac...</td>\n    </tr>\n  </tbody>\n</table>\n</div>"
     },
     "execution_count": 57,
     "metadata": {},
     "output_type": "execute_result"
    }
   ],
   "source": [
    "driver = selenium_run()\n",
    "auto_login(driver)\n",
    "\n",
    "# 昨日のみ\n",
    "# to_search_yesterday()\n",
    "\n",
    "# 期間指定\n",
    "# start = '2022-03-13'\n",
    "# end = '2022-03-13'\n",
    "# to_search_period(start=start, end=end)\n",
    "\n",
    "# 日時指定\n",
    "search_day = '2022-03-13'\n",
    "to_search_date(search_day)\n",
    "\n",
    "sleep(2)\n",
    "# 検索件数の取得\n",
    "search_results_count = driver.find_element(by=By.CLASS_NAME, value='c-tabs__tab_count').text\n",
    "print(f'検索結果数：{search_results_count}')\n",
    "\n",
    "# 並べ替え：古い→新\n",
    "pg.press('tab', presses=16, interval=0.2)\n",
    "pg.press('enter', presses=1, interval=0.1)\n",
    "pg.press('down', presses=3, interval=0.2)\n",
    "pg.press('enter', presses=1, interval=0.1)\n",
    "# 全件表示\n",
    "pg.press('tab', presses=1, interval=0.2)\n",
    "pg.press('enter', presses=1, interval=0.1)\n",
    "pg.press('down', presses=3, interval=0.2)\n",
    "pg.press('enter', presses=1, interval=0.1)\n",
    "\n",
    "# 表示を小さくする\n",
    "display_smaller()\n",
    "\n",
    "# 一番下まで移動\n",
    "pg.press('tab', presses=2, interval=0.2)\n",
    "pg.press('pagedown', presses=10, interval=0.2)\n",
    "sleep(2)\n",
    "\n",
    "data = []\n",
    "\n",
    "# メッセージ重複有り（取得後整形予定）\n",
    "for i in range(3):  # 3回までスクロール\n",
    "    message_groups = driver.find_elements(by=By.CLASS_NAME, value='c-message_group')\n",
    "    print(f'メッセージ数:{len(message_groups)}')\n",
    "\n",
    "    for j, message in enumerate(message_groups):\n",
    "        date = message.find_element(by=By.CLASS_NAME, value='c-message_group__header_date').text\n",
    "        timestamp = message.find_element(by=By.CLASS_NAME, value='c-timestamp__label').text\n",
    "        channel_name = message.find_element(by=By.CLASS_NAME, value='p-deprecated_channel_name__text').text\n",
    "        sender_name = message.find_element(by=By.CLASS_NAME, value='c-message__sender').text\n",
    "        try:\n",
    "            text_section = message.find_element(by=By.CLASS_NAME, value='p-rich_text_section').text\n",
    "            try:\n",
    "                # リスト表記をしているメッセージへの対応\n",
    "                lists = message.find_elements(by=By.TAG_NAME, value='li')\n",
    "                if lists is not None:\n",
    "                    for list in lists:\n",
    "                        text_section += list.text + '\\n'\n",
    "            except:\n",
    "                pass\n",
    "        except:\n",
    "            text_section = message.find_element(by=By.CLASS_NAME, value='c-search_message__body').text\n",
    "            try:\n",
    "                # リスト表記をしているメッセージへの対応\n",
    "                lists = message.find_elements(by=By.TAG_NAME, value='li')\n",
    "                if lists is not None:\n",
    "                    for list in lists:\n",
    "                        text_section += list.text + '\\n'\n",
    "            except:\n",
    "                pass\n",
    "        urls = message.find_elements(by=By.TAG_NAME, value='a')\n",
    "        url = urls[1].get_attribute('href')\n",
    "        ts = url.split('=')[-1]\n",
    "\n",
    "        datum = {\n",
    "            '検索結果数': search_results_count,\n",
    "            'ts': ts,\n",
    "            '投稿日': date,\n",
    "            '投稿時間': timestamp,\n",
    "            '投稿チャンネル': channel_name,\n",
    "            '投稿者': sender_name,\n",
    "            '投稿メッセージ': text_section,\n",
    "            'リンク': url\n",
    "        }\n",
    "        data.append(datum)\n",
    "        print(f'{j + 1}/{len(message_groups)}:{sender_name}さん{timestamp}投稿の、「{text_section[:10]}」から始まるメッセージ取得完了')\n",
    "        # 待機時間（サイトに負荷を与えないと同時にコンテンツの読み込み待ち）\n",
    "        sleep(1)\n",
    "\n",
    "    # 先頭の要素までスクロール\n",
    "    first_message = message_groups[0]\n",
    "    actions = ActionChains(driver);\n",
    "    actions.move_to_element(first_message);\n",
    "    actions.perform();\n",
    "\n",
    "    # 待機時間（サイトに負荷を与えないと同時にコンテンツの読み込み待ち）\n",
    "    sleep(3)\n",
    "\n",
    "df = pd.DataFrame(data)\n",
    "df['リンク'] = df['リンク'].apply(make_clickable)\n",
    "# df.to_excel(f'src/code4biz_slack_message_{start}_to_{end}.xlsx', index=False)\n",
    "df.to_excel(f'src/{search_day}_code4biz_slack_messages.xlsx', index=False)\n",
    "df"
   ],
   "metadata": {
    "collapsed": false,
    "pycharm": {
     "name": "#%%\n"
    }
   }
  },
  {
   "cell_type": "code",
   "execution_count": 60,
   "outputs": [
    {
     "name": "stdout",
     "output_type": "stream",
     "text": [
      "\n"
     ]
    },
    {
     "name": "stderr",
     "output_type": "stream",
     "text": [
      "[WDM] - ====== WebDriver manager ======\n",
      "[WDM] - Current google-chrome version is 103.0.5060\n",
      "[WDM] - Get LATEST chromedriver version for 103.0.5060 google-chrome\n",
      "[WDM] - Driver [C:\\Users\\sgwya\\.wdm\\drivers\\chromedriver\\win32\\103.0.5060.53\\chromedriver.exe] found in cache\n"
     ]
    },
    {
     "name": "stdout",
     "output_type": "stream",
     "text": [
      "検索日:2022-03-15\n",
      "検索結果数：48\n"
     ]
    }
   ],
   "source": [
    "driver = selenium_run()\n",
    "auto_login(driver)\n",
    "\n",
    "# 昨日のみ\n",
    "# to_search_yesterday()\n",
    "\n",
    "# 期間指定\n",
    "# start = '2022-03-13'\n",
    "# end = '2022-03-13'\n",
    "# to_search_period(start=start, end=end)\n",
    "\n",
    "# 日時指定\n",
    "search_day = '2022-03-15'\n",
    "to_search_date(search_day)\n",
    "\n",
    "sleep(2)\n",
    "# 検索件数の取得\n",
    "search_results_count = driver.find_element(by=By.CLASS_NAME, value='c-tabs__tab_count').text\n",
    "print(f'検索結果数：{search_results_count}')\n",
    "\n",
    "# 並べ替え：古い→新\n",
    "pg.press('tab', presses=16, interval=0.2)\n",
    "pg.press('enter', presses=1, interval=0.1)\n",
    "pg.press('down', presses=3, interval=0.2)\n",
    "pg.press('enter', presses=1, interval=0.1)\n",
    "# 全件表示\n",
    "pg.press('tab', presses=1, interval=0.2)\n",
    "pg.press('enter', presses=1, interval=0.1)\n",
    "pg.press('down', presses=3, interval=0.2)\n",
    "pg.press('enter', presses=1, interval=0.1)\n",
    "\n",
    "# 表示を小さくする\n",
    "display_smaller()\n",
    "\n",
    "# 一番下まで移動\n",
    "pg.press('tab', presses=2, interval=0.2)\n",
    "pg.press('pagedown', presses=10, interval=0.2)\n",
    "sleep(2)"
   ],
   "metadata": {
    "collapsed": false,
    "pycharm": {
     "name": "#%%\n"
    }
   }
  },
  {
   "cell_type": "code",
   "execution_count": 65,
   "outputs": [
    {
     "data": {
      "text/plain": "['https://code4biz.slack.com/archives/C036ZNV6ZS4/p1647299253977339?thread_ts=1647299253.977339',\n 'https://code4biz.slack.com/archives/C036ZNV6ZS4/p1647309648645169?thread_ts=1647299253.977339',\n 'https://code4biz.slack.com/archives/C036ZNV6ZS4/p1647310979494039?thread_ts=1647310979.494039',\n 'https://code4biz.slack.com/archives/C036ZNV6ZS4/p1647311112057179?thread_ts=1647310979.494039',\n 'https://code4biz.slack.com/archives/C036ZNV6ZS4/p1647311320869129?thread_ts=1647310979.494039',\n 'https://code4biz.slack.com/archives/C036ZNV6ZS4/p1647311340098119?thread_ts=1647310979.494039',\n 'https://code4biz.slack.com/archives/C036A0NPU1H/p1647311447191059?thread_ts=1647311447.191059',\n 'https://code4biz.slack.com/archives/C036ZNV6ZS4/p1647313972753049?thread_ts=1647262858.989699',\n 'https://code4biz.slack.com/archives/C036ZNV6ZS4/p1647314603421879?thread_ts=1647262858.989699',\n 'https://code4biz.slack.com/archives/C036A0NPU1H/p1647314975361839?thread_ts=1647311447.191059',\n 'https://code4biz.slack.com/archives/C036A0NPU1H/p1647315233717489?thread_ts=1647311447.191059',\n 'https://code4biz.slack.com/archives/C036A0NPU1H/p1647315655986339?thread_ts=1647311447.191059',\n 'https://code4biz.slack.com/archives/C036A0NPU1H/p1647316176066939?thread_ts=1647311447.191059',\n 'https://code4biz.slack.com/archives/C036UAP19V0/p1647316732108679',\n 'https://code4biz.slack.com/archives/C036NJSDVNV/p1647333733127189?thread_ts=1647333733.127189',\n 'https://code4biz.slack.com/archives/C036NJSDVNV/p1647335855860659?thread_ts=1647333733.127189',\n 'https://code4biz.slack.com/archives/C036NJSDVNV/p1647338321219559?thread_ts=1647338321.219559',\n 'https://code4biz.slack.com/archives/C036NJSDVNV/p1647338755630249?thread_ts=1647338321.219559',\n 'https://code4biz.slack.com/archives/C036NJSDVNV/p1647338916553429?thread_ts=1647338321.219559',\n 'https://code4biz.slack.com/archives/C036NJSDVNV/p1647338934026169?thread_ts=1647338321.219559',\n 'https://code4biz.slack.com/archives/C036NJSDVNV/p1647339607524899?thread_ts=1647333733.127189',\n 'https://code4biz.slack.com/archives/C036NJSDVNV/p1647340142058009?thread_ts=1647333733.127189']"
     },
     "execution_count": 65,
     "metadata": {},
     "output_type": "execute_result"
    }
   ],
   "source": [
    "\n",
    "sleep(5)\n",
    "# data = []\n",
    "#\n",
    "message_groups = driver.find_elements(by=By.CLASS_NAME, value='c-message_group')\n",
    "urls_list  = []\n",
    "for j, message in enumerate(message_groups):\n",
    "    urls = message.find_elements(by=By.TAG_NAME, value='a')\n",
    "    url = urls[1].get_attribute('href')\n",
    "    urls_list.append(url)\n",
    "\n",
    "    sleep(1)\n",
    "\n",
    "    # 先頭の要素までスクロール\n",
    "    first_message = message_groups[0]\n",
    "    actions = ActionChains(driver);\n",
    "    actions.move_to_element(first_message);\n",
    "    actions.perform();\n",
    "urls_list"
   ],
   "metadata": {
    "collapsed": false,
    "pycharm": {
     "name": "#%%\n"
    }
   }
  },
  {
   "cell_type": "code",
   "execution_count": 69,
   "outputs": [],
   "source": [
    "urls_list[0]\n",
    "sleep(5)\n",
    "driver.get(urls_list[0])"
   ],
   "metadata": {
    "collapsed": false,
    "pycharm": {
     "name": "#%%\n"
    }
   }
  },
  {
   "cell_type": "code",
   "execution_count": 47,
   "outputs": [],
   "source": [
    "driver.quit()"
   ],
   "metadata": {
    "collapsed": false,
    "pycharm": {
     "name": "#%%\n"
    }
   }
  }
 ],
 "metadata": {
  "kernelspec": {
   "display_name": "Python 3",
   "language": "python",
   "name": "python3"
  },
  "language_info": {
   "codemirror_mode": {
    "name": "ipython",
    "version": 2
   },
   "file_extension": ".py",
   "mimetype": "text/x-python",
   "name": "python",
   "nbconvert_exporter": "python",
   "pygments_lexer": "ipython2",
   "version": "2.7.6"
  }
 },
 "nbformat": 4,
 "nbformat_minor": 0
}