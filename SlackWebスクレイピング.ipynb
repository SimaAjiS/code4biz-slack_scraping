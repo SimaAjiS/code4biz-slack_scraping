{
 "cells": [
  {
   "cell_type": "code",
   "execution_count": 21,
   "outputs": [
    {
     "name": "stdout",
     "output_type": "stream",
     "text": [
      "\n"
     ]
    },
    {
     "name": "stderr",
     "output_type": "stream",
     "text": [
      "[WDM] - ====== WebDriver manager ======\n",
      "[WDM] - Current google-chrome version is 103.0.5060\n",
      "[WDM] - Get LATEST chromedriver version for 103.0.5060 google-chrome\n",
      "[WDM] - Driver [C:\\Users\\sgwya\\.wdm\\drivers\\chromedriver\\win32\\103.0.5060.53\\chromedriver.exe] found in cache\n"
     ]
    },
    {
     "name": "stdout",
     "output_type": "stream",
     "text": [
      "検索日:2022-07-04\n",
      "検索結果数：17\n",
      "メッセージ数:17\n",
      "...\n",
      "メッセージ取    \n"
     ]
    }
   ],
   "source": [
    "import math\n",
    "from datetime import datetime as dt\n",
    "from time import sleep\n",
    "\n",
    "import pyautogui as pg\n",
    "from selenium.webdriver.common.by import By\n",
    "\n",
    "from main import create_search_day_list, selenium_run, auto_login, to_search_date, display_smaller, \\\n",
    "    get_contents_1message\n",
    "\n",
    "# 抽出期間の取得\n",
    "start = '2022-07-04'\n",
    "end = '2022-07-04'\n",
    "search_days = create_search_day_list(start, end)\n",
    "\n",
    "# 抽出期間より1日毎取り出す\n",
    "for _search_day in search_days:\n",
    "    search_day = _search_day.strftime(\"%Y-%m-%d\")\n",
    "\n",
    "    # データ格納用\n",
    "    data = []\n",
    "\n",
    "    driver = selenium_run()\n",
    "    auto_login(driver)\n",
    "\n",
    "    # 抽出日で全件検索\n",
    "    to_search_date(search_day)\n",
    "    sleep(2)\n",
    "\n",
    "    # 検索件数の取得\n",
    "    search_results_count = int(driver.find_element(by=By.CLASS_NAME, value='c-tabs__tab_count').text)\n",
    "    print(f'検索結果数：{search_results_count}')\n",
    "\n",
    "    # 並べ替え：新 → 古\n",
    "    pg.press('tab', presses=16, interval=0.2)\n",
    "    pg.press('enter', presses=1, interval=0.1)\n",
    "    pg.press('down', presses=2, interval=0.2)\n",
    "    pg.press('enter', presses=1, interval=0.1)\n",
    "\n",
    "    # 20件表示\n",
    "    pg.press('tab', presses=1, interval=0.2)\n",
    "    pg.press('enter', presses=1, interval=0.1)\n",
    "    pg.press('down', presses=0, interval=0.2)\n",
    "    pg.press('enter', presses=1, interval=0.1)\n",
    "\n",
    "    # 表示を小さくする\n",
    "    display_smaller()\n",
    "\n",
    "    # 一番下まで移動\n",
    "    pg.press('tab', presses=3, interval=0.5)\n",
    "    pg.press('pagedown', presses=10, interval=0.5)\n",
    "    sleep(2)\n",
    "\n",
    "    # 取得日時\n",
    "    start_time = dt.now()\n",
    "# メッセージ重複有り（取得後、pandasにて重複削除）\n",
    "\n",
    "# 20件/ページ として総ページ算出\n",
    "pages = math.floor(search_results_count / 20)\n",
    "\n",
    "for page in range(pages + 1):\n",
    "    message_groups = driver.find_elements(by=By.CLASS_NAME, value='c-message_group')\n",
    "    print(f'メッセージ数:{len(message_groups)}')\n",
    "\n",
    "    # 最後（検索結果の下側）から取得するためリスト反転\n",
    "    message_groups.reverse()\n",
    "\n",
    "    try:\n",
    "        message = message_groups[-1]\n",
    "        print(f'...\\nメッセージ取    ')\n",
    "        sleep(0.5)\n",
    "    except Exception as e:\n",
    "        print(e)\n",
    "\n"
   ],
   "metadata": {
    "collapsed": false,
    "pycharm": {
     "name": "#%%\n"
    }
   }
  },
  {
   "cell_type": "code",
   "execution_count": 22,
   "outputs": [
    {
     "data": {
      "text/plain": "'url埋め込みテスト （編集済み） '"
     },
     "execution_count": 22,
     "metadata": {},
     "output_type": "execute_result"
    }
   ],
   "source": [
    "from main import get_text_section\n",
    "\n",
    "text_section = get_text_section(message, class_name='p-rich_text_section')\n",
    "text_section"
   ],
   "metadata": {
    "collapsed": false,
    "pycharm": {
     "name": "#%%\n"
    }
   }
  },
  {
   "cell_type": "code",
   "execution_count": 36,
   "outputs": [
    {
     "data": {
      "text/plain": "['https://code4biz.slack.com/services/B03EK7GHWSG']"
     },
     "execution_count": 36,
     "metadata": {},
     "output_type": "execute_result"
    }
   ],
   "source": [
    "\n",
    "urls = message.find_elements(by=By.TAG_NAME, value='a')\n",
    "url = urls[1].get_attribute('href')\n",
    "thread_ts = url.split('=')[-1]\n",
    "\n",
    "references = []\n",
    "for url in urls[2:]:\n",
    "    reference = url.get_attribute('href')\n",
    "    references.append(reference)\n",
    "\n",
    "references"
   ],
   "metadata": {
    "collapsed": false,
    "pycharm": {
     "name": "#%%\n"
    }
   }
  },
  {
   "cell_type": "code",
   "execution_count": null,
   "outputs": [],
   "source": [
    "参考"
   ],
   "metadata": {
    "collapsed": false,
    "pycharm": {
     "name": "#%%\n"
    }
   }
  }
 ],
 "metadata": {
  "kernelspec": {
   "display_name": "Python 3",
   "language": "python",
   "name": "python3"
  },
  "language_info": {
   "codemirror_mode": {
    "name": "ipython",
    "version": 2
   },
   "file_extension": ".py",
   "mimetype": "text/x-python",
   "name": "python",
   "nbconvert_exporter": "python",
   "pygments_lexer": "ipython2",
   "version": "2.7.6"
  }
 },
 "nbformat": 4,
 "nbformat_minor": 0
}